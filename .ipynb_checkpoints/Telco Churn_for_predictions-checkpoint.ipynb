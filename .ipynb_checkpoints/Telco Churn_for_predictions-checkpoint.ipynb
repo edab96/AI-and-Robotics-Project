{
 "cells": [
  {
   "cell_type": "code",
   "execution_count": 2,
   "metadata": {},
   "outputs": [],
   "source": [
    "import pandas as pd\n",
    "import numpy as np\n",
    "\n",
    "import matplotlib.pyplot as plt\n",
    "import pandas as pd\n",
    "import seaborn as sns"
   ]
  },
  {
   "cell_type": "code",
   "execution_count": 6,
   "metadata": {},
   "outputs": [
    {
     "name": "stdout",
     "output_type": "stream",
     "text": [
      "<class 'pandas.core.frame.DataFrame'>\n",
      "Int64Index: 7032 entries, 0 to 7031\n",
      "Data columns (total 27 columns):\n",
      "SeniorCitizen                                  7032 non-null int64\n",
      "tenure                                         7032 non-null int64\n",
      "MonthlyCharges                                 7032 non-null float64\n",
      "TotalCharges                                   7032 non-null float64\n",
      "boolPartner                                    7032 non-null int64\n",
      "boolDependents                                 7032 non-null int64\n",
      "boolPhoneService                               7032 non-null int64\n",
      "boolMultipleLines                              7032 non-null int64\n",
      "boolOnlineSecurity                             7032 non-null int64\n",
      "boolOnlineBackup                               7032 non-null int64\n",
      "boolDeviceProtection                           7032 non-null int64\n",
      "boolTechSupport                                7032 non-null int64\n",
      "boolStreamingTV                                7032 non-null int64\n",
      "boolStreamingMovies                            7032 non-null int64\n",
      "boolPaperlessBilling                           7032 non-null int64\n",
      "boolChurn                                      7032 non-null int64\n",
      "boolMale                                       7032 non-null int64\n",
      "boolInternetService_DSL                        7032 non-null int64\n",
      "boolInternetService_Fiber optic                7032 non-null int64\n",
      "boolInternetService_No                         7032 non-null int64\n",
      "boolContract_Month-to-month                    7032 non-null int64\n",
      "boolContract_One year                          7032 non-null int64\n",
      "boolContract_Two year                          7032 non-null int64\n",
      "boolPaymentMethod_Bank transfer (automatic)    7032 non-null int64\n",
      "boolPaymentMethod_Credit card (automatic)      7032 non-null int64\n",
      "boolPaymentMethod_Electronic check             7032 non-null int64\n",
      "boolPaymentMethod_Mailed check                 7032 non-null int64\n",
      "dtypes: float64(2), int64(25)\n",
      "memory usage: 1.5 MB\n",
      "None\n"
     ]
    }
   ],
   "source": [
    "df = pd.read_csv(\"/Users/Michele/Documents/GitHub/AI-and-Robotics-Project/Data/Datapreprocessed_df.csv\",index_col=0)\n",
    "#print(df.head())\n",
    "print(df.info())"
   ]
  },
  {
   "cell_type": "code",
   "execution_count": 8,
   "metadata": {},
   "outputs": [
    {
     "data": {
      "text/plain": [
       "boolContract_Month-to-month                    0.404565\n",
       "tenure                                         0.354049\n",
       "boolInternetService_Fiber optic                0.307463\n",
       "boolContract_Two year                          0.301552\n",
       "boolPaymentMethod_Electronic check             0.301455\n",
       "boolInternetService_No                         0.227578\n",
       "TotalCharges                                   0.199484\n",
       "MonthlyCharges                                 0.192858\n",
       "boolPaperlessBilling                           0.191454\n",
       "boolContract_One year                          0.178225\n",
       "boolOnlineSecurity                             0.171270\n",
       "boolTechSupport                                0.164716\n",
       "boolDependents                                 0.163128\n",
       "SeniorCitizen                                  0.150541\n",
       "boolPartner                                    0.149982\n",
       "boolPaymentMethod_Credit card (automatic)      0.134687\n",
       "boolInternetService_DSL                        0.124141\n",
       "boolPaymentMethod_Bank transfer (automatic)    0.118136\n",
       "boolPaymentMethod_Mailed check                 0.090773\n",
       "boolOnlineBackup                               0.082307\n",
       "boolDeviceProtection                           0.066193\n",
       "boolStreamingTV                                0.063254\n",
       "boolStreamingMovies                            0.060860\n",
       "boolMultipleLines                              0.040033\n",
       "boolPhoneService                               0.011691\n",
       "boolMale                                       0.008545\n",
       "Name: boolChurn, dtype: float64"
      ]
     },
     "execution_count": 8,
     "metadata": {},
     "output_type": "execute_result"
    }
   ],
   "source": [
    "# Computing correlation between all features against the target Churn. \n",
    "\n",
    "churn_corr = df.corr()['boolChurn']\n",
    "\n",
    "churn_corr.abs().sort_values(ascending=False)[1:]"
   ]
  },
  {
   "cell_type": "code",
   "execution_count": 9,
   "metadata": {},
   "outputs": [
    {
     "name": "stdout",
     "output_type": "stream",
     "text": [
      "(1869,)\n",
      "(5163,)\n",
      "(7032, 27)\n"
     ]
    }
   ],
   "source": [
    "Churn = df[df['boolChurn'] == 1]['boolChurn']\n",
    "NoChurn = df[df['boolChurn'] == 0]['boolChurn']\n",
    "\n",
    "print(Churn.shape)\n",
    "print(NoChurn.shape)\n",
    "print(df.shape)"
   ]
  },
  {
   "cell_type": "code",
   "execution_count": null,
   "metadata": {},
   "outputs": [],
   "source": []
  },
  {
   "cell_type": "code",
   "execution_count": 18,
   "metadata": {},
   "outputs": [
    {
     "name": "stdout",
     "output_type": "stream",
     "text": [
      "SeniorCitizen\n",
      "[0 1]\n",
      "tenure\n",
      "[ 1 34  2 45  8 22 10 28 62 13 16 58 49 25 69 52 71 21 12 30 47 72 17 27\n",
      "  5 46 11 70 63 43 15 60 18 66  9  3 31 50 64 56  7 42 35 48 29 65 38 68\n",
      " 32 55 37 36 41  6  4 33 67 23 57 61 14 20 53 40 59 24 44 19 54 51 26 39]\n",
      "MonthlyCharges\n",
      "[29.85 56.95 53.85 ... 63.1  44.2  78.7 ]\n",
      "TotalCharges\n",
      "[  29.85 1889.5   108.15 ...  346.45  306.6  6844.5 ]\n",
      "boolPartner\n",
      "[1 0]\n",
      "boolDependents\n",
      "[0 1]\n",
      "boolPhoneService\n",
      "[0 1]\n",
      "boolMultipleLines\n",
      "[0 1]\n",
      "boolOnlineSecurity\n",
      "[0 1]\n",
      "boolOnlineBackup\n",
      "[1 0]\n",
      "boolDeviceProtection\n",
      "[0 1]\n",
      "boolTechSupport\n",
      "[0 1]\n",
      "boolStreamingTV\n",
      "[0 1]\n",
      "boolStreamingMovies\n",
      "[0 1]\n",
      "boolPaperlessBilling\n",
      "[1 0]\n",
      "boolChurn\n",
      "[0 1]\n",
      "boolMale\n",
      "[0 1]\n",
      "boolInternetService_DSL\n",
      "[1 0]\n",
      "boolInternetService_Fiber optic\n",
      "[0 1]\n",
      "boolInternetService_No\n",
      "[0 1]\n",
      "boolContract_Month-to-month\n",
      "[1 0]\n",
      "boolContract_One year\n",
      "[0 1]\n",
      "boolContract_Two year\n",
      "[0 1]\n",
      "boolPaymentMethod_Bank transfer (automatic)\n",
      "[0 1]\n",
      "boolPaymentMethod_Credit card (automatic)\n",
      "[0 1]\n",
      "boolPaymentMethod_Electronic check\n",
      "[1 0]\n",
      "boolPaymentMethod_Mailed check\n",
      "[0 1]\n"
     ]
    }
   ],
   "source": [
    "for col in df:\n",
    "    print(col)\n",
    "    print(df[col].unique())"
   ]
  },
  {
   "cell_type": "code",
   "execution_count": null,
   "metadata": {},
   "outputs": [],
   "source": []
  }
 ],
 "metadata": {
  "kernelspec": {
   "display_name": "Python 3",
   "language": "python",
   "name": "python3"
  },
  "language_info": {
   "codemirror_mode": {
    "name": "ipython",
    "version": 3
   },
   "file_extension": ".py",
   "mimetype": "text/x-python",
   "name": "python",
   "nbconvert_exporter": "python",
   "pygments_lexer": "ipython3",
   "version": "3.7.4"
  }
 },
 "nbformat": 4,
 "nbformat_minor": 2
}
