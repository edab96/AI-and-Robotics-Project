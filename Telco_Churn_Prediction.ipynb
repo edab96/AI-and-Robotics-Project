{
  "nbformat": 4,
  "nbformat_minor": 0,
  "metadata": {
    "kernelspec": {
      "display_name": "Python 3",
      "language": "python",
      "name": "python3"
    },
    "language_info": {
      "codemirror_mode": {
        "name": "ipython",
        "version": 3
      },
      "file_extension": ".py",
      "mimetype": "text/x-python",
      "name": "python",
      "nbconvert_exporter": "python",
      "pygments_lexer": "ipython3",
      "version": "3.7.4"
    },
    "colab": {
      "name": "Telco Churn Prediction.ipynb",
      "provenance": [],
      "collapsed_sections": [
        "Ckw33ULme-hN",
        "YIQPqC8yAdrJ",
        "RsgtfApBAN-W",
        "hZhCa1Lk9Mme",
        "-id70Lhs05WO",
        "0_D-p18hp4pX",
        "imBktumO801U"
      ]
    },
    "accelerator": "GPU"
  },
  "cells": [
    {
      "cell_type": "markdown",
      "metadata": {
        "id": "jt_78O3Zcaj6",
        "colab_type": "text"
      },
      "source": [
        "# Telco Dataset: preprocessing and model evaluation"
      ]
    },
    {
      "cell_type": "markdown",
      "metadata": {
        "id": "DpItSaBhdKBj",
        "colab_type": "text"
      },
      "source": [
        "This Notebook is the product of an academic group work for course[ Artificial Intelligence & Robotics](https://kursuskatalog.cbs.dk/2019-2020/KAN-CINTO1820U.aspx), held at Copenhagen Business School during spring 2020.\n",
        "\n",
        "Authors:\n",
        "Scarperi, M., Abate, E.\n",
        "\n"
      ]
    },
    {
      "cell_type": "markdown",
      "metadata": {
        "id": "D9QPpy5zd3TX",
        "colab_type": "text"
      },
      "source": [
        "## 1. First look at the dataset"
      ]
    },
    {
      "cell_type": "markdown",
      "metadata": {
        "id": "fSoTfwWPcaj9",
        "colab_type": "text"
      },
      "source": [
        "###  Load Telco Customer Churn Data\n",
        "Notice that the dataset can be retrieved at https://www.kaggle.com/blastchar/telco-customer-churn/data"
      ]
    },
    {
      "cell_type": "code",
      "metadata": {
        "id": "V6dTaPJBcaj7",
        "colab_type": "code",
        "colab": {}
      },
      "source": [
        "import pandas as pd\n",
        "import numpy as np"
      ],
      "execution_count": 0,
      "outputs": []
    },
    {
      "cell_type": "code",
      "metadata": {
        "scrolled": false,
        "id": "wfq1LwCGcaj-",
        "colab_type": "code",
        "colab": {
          "base_uri": "https://localhost:8080/",
          "height": 797
        },
        "outputId": "800caf86-b499-4c48-f5b5-a5cd6a5215c6"
      },
      "source": [
        "# Make sure the dataset is nested within folder \"Data\"\n",
        "df = pd.read_csv(\"Data/Telco-Customer-Churn.csv\",index_col=0)\n",
        "print(df.info())\n",
        "df.head()"
      ],
      "execution_count": 2,
      "outputs": [
        {
          "output_type": "stream",
          "text": [
            "<class 'pandas.core.frame.DataFrame'>\n",
            "Index: 7043 entries, 7590-VHVEG to 3186-AJIEK\n",
            "Data columns (total 20 columns):\n",
            " #   Column            Non-Null Count  Dtype  \n",
            "---  ------            --------------  -----  \n",
            " 0   gender            7043 non-null   object \n",
            " 1   SeniorCitizen     7043 non-null   int64  \n",
            " 2   Partner           7043 non-null   object \n",
            " 3   Dependents        7043 non-null   object \n",
            " 4   tenure            7043 non-null   int64  \n",
            " 5   PhoneService      7043 non-null   object \n",
            " 6   MultipleLines     7043 non-null   object \n",
            " 7   InternetService   7043 non-null   object \n",
            " 8   OnlineSecurity    7043 non-null   object \n",
            " 9   OnlineBackup      7043 non-null   object \n",
            " 10  DeviceProtection  7043 non-null   object \n",
            " 11  TechSupport       7043 non-null   object \n",
            " 12  StreamingTV       7043 non-null   object \n",
            " 13  StreamingMovies   7043 non-null   object \n",
            " 14  Contract          7043 non-null   object \n",
            " 15  PaperlessBilling  7043 non-null   object \n",
            " 16  PaymentMethod     7043 non-null   object \n",
            " 17  MonthlyCharges    7043 non-null   float64\n",
            " 18  TotalCharges      7043 non-null   object \n",
            " 19  Churn             7043 non-null   object \n",
            "dtypes: float64(1), int64(2), object(17)\n",
            "memory usage: 1.1+ MB\n",
            "None\n"
          ],
          "name": "stdout"
        },
        {
          "output_type": "execute_result",
          "data": {
            "text/html": [
              "<div>\n",
              "<style scoped>\n",
              "    .dataframe tbody tr th:only-of-type {\n",
              "        vertical-align: middle;\n",
              "    }\n",
              "\n",
              "    .dataframe tbody tr th {\n",
              "        vertical-align: top;\n",
              "    }\n",
              "\n",
              "    .dataframe thead th {\n",
              "        text-align: right;\n",
              "    }\n",
              "</style>\n",
              "<table border=\"1\" class=\"dataframe\">\n",
              "  <thead>\n",
              "    <tr style=\"text-align: right;\">\n",
              "      <th></th>\n",
              "      <th>gender</th>\n",
              "      <th>SeniorCitizen</th>\n",
              "      <th>Partner</th>\n",
              "      <th>Dependents</th>\n",
              "      <th>tenure</th>\n",
              "      <th>PhoneService</th>\n",
              "      <th>MultipleLines</th>\n",
              "      <th>InternetService</th>\n",
              "      <th>OnlineSecurity</th>\n",
              "      <th>OnlineBackup</th>\n",
              "      <th>DeviceProtection</th>\n",
              "      <th>TechSupport</th>\n",
              "      <th>StreamingTV</th>\n",
              "      <th>StreamingMovies</th>\n",
              "      <th>Contract</th>\n",
              "      <th>PaperlessBilling</th>\n",
              "      <th>PaymentMethod</th>\n",
              "      <th>MonthlyCharges</th>\n",
              "      <th>TotalCharges</th>\n",
              "      <th>Churn</th>\n",
              "    </tr>\n",
              "    <tr>\n",
              "      <th>customerID</th>\n",
              "      <th></th>\n",
              "      <th></th>\n",
              "      <th></th>\n",
              "      <th></th>\n",
              "      <th></th>\n",
              "      <th></th>\n",
              "      <th></th>\n",
              "      <th></th>\n",
              "      <th></th>\n",
              "      <th></th>\n",
              "      <th></th>\n",
              "      <th></th>\n",
              "      <th></th>\n",
              "      <th></th>\n",
              "      <th></th>\n",
              "      <th></th>\n",
              "      <th></th>\n",
              "      <th></th>\n",
              "      <th></th>\n",
              "      <th></th>\n",
              "    </tr>\n",
              "  </thead>\n",
              "  <tbody>\n",
              "    <tr>\n",
              "      <th>7590-VHVEG</th>\n",
              "      <td>Female</td>\n",
              "      <td>0</td>\n",
              "      <td>Yes</td>\n",
              "      <td>No</td>\n",
              "      <td>1</td>\n",
              "      <td>No</td>\n",
              "      <td>No phone service</td>\n",
              "      <td>DSL</td>\n",
              "      <td>No</td>\n",
              "      <td>Yes</td>\n",
              "      <td>No</td>\n",
              "      <td>No</td>\n",
              "      <td>No</td>\n",
              "      <td>No</td>\n",
              "      <td>Month-to-month</td>\n",
              "      <td>Yes</td>\n",
              "      <td>Electronic check</td>\n",
              "      <td>29.85</td>\n",
              "      <td>29.85</td>\n",
              "      <td>No</td>\n",
              "    </tr>\n",
              "    <tr>\n",
              "      <th>5575-GNVDE</th>\n",
              "      <td>Male</td>\n",
              "      <td>0</td>\n",
              "      <td>No</td>\n",
              "      <td>No</td>\n",
              "      <td>34</td>\n",
              "      <td>Yes</td>\n",
              "      <td>No</td>\n",
              "      <td>DSL</td>\n",
              "      <td>Yes</td>\n",
              "      <td>No</td>\n",
              "      <td>Yes</td>\n",
              "      <td>No</td>\n",
              "      <td>No</td>\n",
              "      <td>No</td>\n",
              "      <td>One year</td>\n",
              "      <td>No</td>\n",
              "      <td>Mailed check</td>\n",
              "      <td>56.95</td>\n",
              "      <td>1889.5</td>\n",
              "      <td>No</td>\n",
              "    </tr>\n",
              "    <tr>\n",
              "      <th>3668-QPYBK</th>\n",
              "      <td>Male</td>\n",
              "      <td>0</td>\n",
              "      <td>No</td>\n",
              "      <td>No</td>\n",
              "      <td>2</td>\n",
              "      <td>Yes</td>\n",
              "      <td>No</td>\n",
              "      <td>DSL</td>\n",
              "      <td>Yes</td>\n",
              "      <td>Yes</td>\n",
              "      <td>No</td>\n",
              "      <td>No</td>\n",
              "      <td>No</td>\n",
              "      <td>No</td>\n",
              "      <td>Month-to-month</td>\n",
              "      <td>Yes</td>\n",
              "      <td>Mailed check</td>\n",
              "      <td>53.85</td>\n",
              "      <td>108.15</td>\n",
              "      <td>Yes</td>\n",
              "    </tr>\n",
              "    <tr>\n",
              "      <th>7795-CFOCW</th>\n",
              "      <td>Male</td>\n",
              "      <td>0</td>\n",
              "      <td>No</td>\n",
              "      <td>No</td>\n",
              "      <td>45</td>\n",
              "      <td>No</td>\n",
              "      <td>No phone service</td>\n",
              "      <td>DSL</td>\n",
              "      <td>Yes</td>\n",
              "      <td>No</td>\n",
              "      <td>Yes</td>\n",
              "      <td>Yes</td>\n",
              "      <td>No</td>\n",
              "      <td>No</td>\n",
              "      <td>One year</td>\n",
              "      <td>No</td>\n",
              "      <td>Bank transfer (automatic)</td>\n",
              "      <td>42.30</td>\n",
              "      <td>1840.75</td>\n",
              "      <td>No</td>\n",
              "    </tr>\n",
              "    <tr>\n",
              "      <th>9237-HQITU</th>\n",
              "      <td>Female</td>\n",
              "      <td>0</td>\n",
              "      <td>No</td>\n",
              "      <td>No</td>\n",
              "      <td>2</td>\n",
              "      <td>Yes</td>\n",
              "      <td>No</td>\n",
              "      <td>Fiber optic</td>\n",
              "      <td>No</td>\n",
              "      <td>No</td>\n",
              "      <td>No</td>\n",
              "      <td>No</td>\n",
              "      <td>No</td>\n",
              "      <td>No</td>\n",
              "      <td>Month-to-month</td>\n",
              "      <td>Yes</td>\n",
              "      <td>Electronic check</td>\n",
              "      <td>70.70</td>\n",
              "      <td>151.65</td>\n",
              "      <td>Yes</td>\n",
              "    </tr>\n",
              "  </tbody>\n",
              "</table>\n",
              "</div>"
            ],
            "text/plain": [
              "            gender  SeniorCitizen Partner  ... MonthlyCharges  TotalCharges Churn\n",
              "customerID                                 ...                                   \n",
              "7590-VHVEG  Female              0     Yes  ...          29.85         29.85    No\n",
              "5575-GNVDE    Male              0      No  ...          56.95        1889.5    No\n",
              "3668-QPYBK    Male              0      No  ...          53.85        108.15   Yes\n",
              "7795-CFOCW    Male              0      No  ...          42.30       1840.75    No\n",
              "9237-HQITU  Female              0      No  ...          70.70        151.65   Yes\n",
              "\n",
              "[5 rows x 20 columns]"
            ]
          },
          "metadata": {
            "tags": []
          },
          "execution_count": 2
        }
      ]
    },
    {
      "cell_type": "markdown",
      "metadata": {
        "id": "l8syK_1ycakB",
        "colab_type": "text"
      },
      "source": [
        "### Initial reflections  \n",
        "The dataset contains a total of 20 features. Most of the feature columns are of type \"Object\" as they contain strings. They are *all* of categorical nature, and 12 of them are boolean categories (Yes/No). \n",
        "\n",
        "Three columns are of numerical nature `SeniorCitizen`(int64), `tenure`(int64) `MonthlyCharges`(float64). Surprisingly, `TotalCharges` is not a *float64* like `MonthlyCharges`, but an Object. We will investigate this further later on in this Notebook."
      ]
    },
    {
      "cell_type": "code",
      "metadata": {
        "scrolled": false,
        "id": "jYdvf_becakC",
        "colab_type": "code",
        "colab": {
          "base_uri": "https://localhost:8080/",
          "height": 367
        },
        "outputId": "a0338483-df58-4b16-8198-eb1e44d07403"
      },
      "source": [
        "#There are no NAs. \"count\" returns 7043 for all features\n",
        "df.isna().sum() "
      ],
      "execution_count": 3,
      "outputs": [
        {
          "output_type": "execute_result",
          "data": {
            "text/plain": [
              "gender              0\n",
              "SeniorCitizen       0\n",
              "Partner             0\n",
              "Dependents          0\n",
              "tenure              0\n",
              "PhoneService        0\n",
              "MultipleLines       0\n",
              "InternetService     0\n",
              "OnlineSecurity      0\n",
              "OnlineBackup        0\n",
              "DeviceProtection    0\n",
              "TechSupport         0\n",
              "StreamingTV         0\n",
              "StreamingMovies     0\n",
              "Contract            0\n",
              "PaperlessBilling    0\n",
              "PaymentMethod       0\n",
              "MonthlyCharges      0\n",
              "TotalCharges        0\n",
              "Churn               0\n",
              "dtype: int64"
            ]
          },
          "metadata": {
            "tags": []
          },
          "execution_count": 3
        }
      ]
    },
    {
      "cell_type": "markdown",
      "metadata": {
        "id": "8TfvuBohcakF",
        "colab_type": "text"
      },
      "source": [
        "### A more in-depth look at string features\n",
        "We now want to understand the value structure of each string feature. We want to get an overview of:\n",
        "- (1) the amount of unique values for each string feature; \n",
        "- (2) the unique values for each string feature.\n",
        "Some of them are structured in a binary way. We can easily one hot encode these features using a single additional column.\n",
        "\n",
        "Some other features present more categories, and they will have to be handled different. One hot enconding them will yield creating one additional column per unique value."
      ]
    },
    {
      "cell_type": "code",
      "metadata": {
        "id": "NhVNEyzqcakF",
        "colab_type": "code",
        "colab": {
          "base_uri": "https://localhost:8080/",
          "height": 600
        },
        "outputId": "cc6884c9-1cd7-4f61-f77f-d88ea92b2995"
      },
      "source": [
        "# We want to understand which string attributes are binary, which are of a higher category order\n",
        "for col in df: \n",
        "    if df.dtypes[col]==np.object: # We disregard numerical attributes and only take a look at objects\n",
        "        print(col,'(', len(df[col].unique()), ' unique values): ', df[col].unique(),'\\n') \n",
        "        "
      ],
      "execution_count": 4,
      "outputs": [
        {
          "output_type": "stream",
          "text": [
            "gender ( 2  unique values):  ['Female' 'Male'] \n",
            "\n",
            "Partner ( 2  unique values):  ['Yes' 'No'] \n",
            "\n",
            "Dependents ( 2  unique values):  ['No' 'Yes'] \n",
            "\n",
            "PhoneService ( 2  unique values):  ['No' 'Yes'] \n",
            "\n",
            "MultipleLines ( 3  unique values):  ['No phone service' 'No' 'Yes'] \n",
            "\n",
            "InternetService ( 3  unique values):  ['DSL' 'Fiber optic' 'No'] \n",
            "\n",
            "OnlineSecurity ( 3  unique values):  ['No' 'Yes' 'No internet service'] \n",
            "\n",
            "OnlineBackup ( 3  unique values):  ['Yes' 'No' 'No internet service'] \n",
            "\n",
            "DeviceProtection ( 3  unique values):  ['No' 'Yes' 'No internet service'] \n",
            "\n",
            "TechSupport ( 3  unique values):  ['No' 'Yes' 'No internet service'] \n",
            "\n",
            "StreamingTV ( 3  unique values):  ['No' 'Yes' 'No internet service'] \n",
            "\n",
            "StreamingMovies ( 3  unique values):  ['No' 'Yes' 'No internet service'] \n",
            "\n",
            "Contract ( 3  unique values):  ['Month-to-month' 'One year' 'Two year'] \n",
            "\n",
            "PaperlessBilling ( 2  unique values):  ['Yes' 'No'] \n",
            "\n",
            "PaymentMethod ( 4  unique values):  ['Electronic check' 'Mailed check' 'Bank transfer (automatic)'\n",
            " 'Credit card (automatic)'] \n",
            "\n",
            "TotalCharges ( 6531  unique values):  ['29.85' '1889.5' '108.15' ... '346.45' '306.6' '6844.5'] \n",
            "\n",
            "Churn ( 2  unique values):  ['No' 'Yes'] \n",
            "\n"
          ],
          "name": "stdout"
        }
      ]
    },
    {
      "cell_type": "markdown",
      "metadata": {
        "id": "Ckw33ULme-hN",
        "colab_type": "text"
      },
      "source": [
        "## 2. Pre-processing"
      ]
    },
    {
      "cell_type": "markdown",
      "metadata": {
        "id": "W58vyXh6cakI",
        "colab_type": "text"
      },
      "source": [
        "### Pre-processing string features\n",
        "Some features present three unique values such as \"Yes\", \"No\" and \"No internet service\". We argue that \"No internet service\" can be merged into \"No\" with little harm done to the overall information. \n",
        "\n",
        "For the sake of integrity, we can save the information that the customer has \"no internet service\" in a new, additional, column. \n",
        "\n",
        "\n",
        "We now proceed with replacing value \"No internet service\" with \"No\" for a variety of columns.\n",
        "For the same reason, value \"No phone service\" for feature `MultipleLines` is replaced with \"No\".\n",
        "\n",
        "\n",
        "We use the dataframe method `replace()` to accomplish this."
      ]
    },
    {
      "cell_type": "code",
      "metadata": {
        "id": "nhHTMrQqcakI",
        "colab_type": "code",
        "colab": {
          "base_uri": "https://localhost:8080/",
          "height": 600
        },
        "outputId": "9adef411-8fe9-4867-f79a-f758e70ab7ea"
      },
      "source": [
        "# For the following list of features, we want to replace \"No internet service\" with \"No\"\n",
        "featuresToProcess = ['OnlineSecurity', 'OnlineBackup', 'DeviceProtection', 'TechSupport', 'StreamingTV', 'StreamingMovies']\n",
        "\n",
        "# Replace \"No internet service\" with \"No\" for all of the above features\n",
        "for feature in featuresToProcess:\n",
        "    df = df.replace({feature: 'No internet service'}, 'No')\n",
        "\n",
        "# Replace \"No phone service\" with \"No\" for attribute 'MultipleLines'\n",
        "df = df.replace({'MultipleLines': 'No phone service'}, 'No')\n",
        "\n",
        "# We check whether those attributes now present 2 unique values\n",
        "for col in df: \n",
        "    if df.dtypes[col]==np.object: # Again, we disregard numerical attributes\n",
        "        print(col,'(', len(df[col].unique()), ' unique values): ', df[col].unique(),'\\n') "
      ],
      "execution_count": 5,
      "outputs": [
        {
          "output_type": "stream",
          "text": [
            "gender ( 2  unique values):  ['Female' 'Male'] \n",
            "\n",
            "Partner ( 2  unique values):  ['Yes' 'No'] \n",
            "\n",
            "Dependents ( 2  unique values):  ['No' 'Yes'] \n",
            "\n",
            "PhoneService ( 2  unique values):  ['No' 'Yes'] \n",
            "\n",
            "MultipleLines ( 2  unique values):  ['No' 'Yes'] \n",
            "\n",
            "InternetService ( 3  unique values):  ['DSL' 'Fiber optic' 'No'] \n",
            "\n",
            "OnlineSecurity ( 2  unique values):  ['No' 'Yes'] \n",
            "\n",
            "OnlineBackup ( 2  unique values):  ['Yes' 'No'] \n",
            "\n",
            "DeviceProtection ( 2  unique values):  ['No' 'Yes'] \n",
            "\n",
            "TechSupport ( 2  unique values):  ['No' 'Yes'] \n",
            "\n",
            "StreamingTV ( 2  unique values):  ['No' 'Yes'] \n",
            "\n",
            "StreamingMovies ( 2  unique values):  ['No' 'Yes'] \n",
            "\n",
            "Contract ( 3  unique values):  ['Month-to-month' 'One year' 'Two year'] \n",
            "\n",
            "PaperlessBilling ( 2  unique values):  ['Yes' 'No'] \n",
            "\n",
            "PaymentMethod ( 4  unique values):  ['Electronic check' 'Mailed check' 'Bank transfer (automatic)'\n",
            " 'Credit card (automatic)'] \n",
            "\n",
            "TotalCharges ( 6531  unique values):  ['29.85' '1889.5' '108.15' ... '346.45' '306.6' '6844.5'] \n",
            "\n",
            "Churn ( 2  unique values):  ['No' 'Yes'] \n",
            "\n"
          ],
          "name": "stdout"
        }
      ]
    },
    {
      "cell_type": "markdown",
      "metadata": {
        "id": "u4V841t9cakM",
        "colab_type": "text"
      },
      "source": [
        "### Pre-processing binary features\n",
        "The next step is to *one-hot* encode binary features. We make us of `get_dummies()` and a small function written by us, `boolify()`, to create new columns in the dataset.\n",
        "\n",
        "For each binary feature, we generate a single `bool` column. Value \"`Yes`\" is cast into `1`, while \"`No`\" is cast into `0`.\n",
        "\n",
        "Feature `gender` is handled in a similar way, though the generated `boolMale` column simply  represents \"`Male`\" as `1` and \"`Female`\" as `0`."
      ]
    },
    {
      "cell_type": "code",
      "metadata": {
        "id": "gIAj6e6RcakN",
        "colab_type": "code",
        "colab": {
          "base_uri": "https://localhost:8080/",
          "height": 167
        },
        "outputId": "81c98ef6-7bd0-48fd-92ed-a5e41959c355"
      },
      "source": [
        "# Our boolify() takes a dataframe and a column as input, returns the same dataset with a new column, \n",
        "# where the input column is encoded with binary values.\n",
        "def boolify(dataframe, columns):\n",
        "    boolDataframe = dataframe; #Instantiate the input dataframe locally\n",
        "    for columnName in columns:\n",
        "        oneHotColumns = pd.get_dummies(dataframe[columnName])\n",
        "        oneHotColumns = oneHotColumns.drop('No', axis = 1) # We are only interested in keeping the \"Yes\"\n",
        "        oneHotColumns = oneHotColumns.rename(columns={\"Yes\": \"bool\"+columnName}, errors=\"raise\")\n",
        "        boolDataframe = boolDataframe.join(oneHotColumns) # We add the binary column to the input dataframe\n",
        "    return boolDataframe\n",
        "\n",
        "\n",
        "# We first turn binary columns into one hot encoded columns\n",
        "df = boolify(df, ['Partner', 'Dependents', 'PhoneService', 'MultipleLines', 'OnlineSecurity', 'OnlineBackup', 'DeviceProtection', 'TechSupport', 'StreamingTV', 'StreamingMovies', 'PaperlessBilling', 'Churn'])\n",
        "\n",
        "\n",
        "# We turn \"gender\" column into a boolean one hot encoded column 'boolMale'\n",
        "oneHotColumns = pd.get_dummies(df['gender'])\n",
        "oneHotColumns = oneHotColumns.drop('Female',axis = 1)\n",
        "oneHotColumns = oneHotColumns.rename(columns={\"Male\": \"boolMale\"}, errors=\"raise\")\n",
        "df = df.join(oneHotColumns)\n",
        "\n",
        "print(df.head())"
      ],
      "execution_count": 6,
      "outputs": [
        {
          "output_type": "stream",
          "text": [
            "            gender  SeniorCitizen  ... boolChurn boolMale\n",
            "customerID                         ...                   \n",
            "7590-VHVEG  Female              0  ...         0        0\n",
            "5575-GNVDE    Male              0  ...         0        1\n",
            "3668-QPYBK    Male              0  ...         1        1\n",
            "7795-CFOCW    Male              0  ...         0        1\n",
            "9237-HQITU  Female              0  ...         1        0\n",
            "\n",
            "[5 rows x 33 columns]\n"
          ],
          "name": "stdout"
        }
      ]
    },
    {
      "cell_type": "markdown",
      "metadata": {
        "id": "_fCFXmWPcakR",
        "colab_type": "text"
      },
      "source": [
        "### Pre-processing string features with multiple values\n",
        "Columns `InternetService`, `Contract` and `PaymentMethod` present multiple unique values. We generate *one-hot encoded* columns for each unique value, for all three features.\n",
        "\n",
        "The *one-hot* encoded columns are then added to the already processed dataframe."
      ]
    },
    {
      "cell_type": "code",
      "metadata": {
        "id": "0BxttHJFcakS",
        "colab_type": "code",
        "colab": {}
      },
      "source": [
        "# We one hot encode column \"InternetService\"\n",
        "oneHotColumns = pd.get_dummies(df['InternetService'], prefix='boolInternetService')\n",
        "df = df.join(oneHotColumns)\n",
        "\n",
        "# We one hot encode column \"Contract\"\n",
        "oneHotColumns = pd.get_dummies(df['Contract'], prefix='boolContract')\n",
        "df = df.join(oneHotColumns)\n",
        "\n",
        "# We one hot encode column \"PaymentMethod\"\n",
        "oneHotColumns = pd.get_dummies(df['PaymentMethod'], prefix='boolPaymentMethod')\n",
        "df = df.join(oneHotColumns)"
      ],
      "execution_count": 0,
      "outputs": []
    },
    {
      "cell_type": "markdown",
      "metadata": {
        "id": "OYMtDghhcakV",
        "colab_type": "text"
      },
      "source": [
        "### Pre-processing feature `TotalCharges`\n",
        "As previously noticed, `TotalCharges` is of type Object instead of Float64.\n",
        "We first tried to conver it to `float` using astype(). However, this throws an exception.\n",
        "\n",
        "We therefore try to figure out what values are causing this issue. According to StackOverflow, this is most likely caused by a whitespaces."
      ]
    },
    {
      "cell_type": "code",
      "metadata": {
        "id": "O4rhGY1jcakW",
        "colab_type": "code",
        "colab": {
          "base_uri": "https://localhost:8080/",
          "height": 50
        },
        "outputId": "46b0c78b-b2ea-4f0d-c3bc-7cc1193d09ce"
      },
      "source": [
        "# Using `df[\"TotalCharges\"] = df[\"TotalCharges\"].astype(float)` throws an exception\n",
        "validValues = 0\n",
        "notNumericValues = []\n",
        "for string in df['TotalCharges']:\n",
        "    if \" \" in string:\n",
        "        notNumericValues.append(string)\n",
        "        \n",
        "print(\"Found (\",len(notNumericValues),\") whitespaces\")\n",
        "print(notNumericValues)"
      ],
      "execution_count": 8,
      "outputs": [
        {
          "output_type": "stream",
          "text": [
            "Found ( 11 ) whitespaces\n",
            "[' ', ' ', ' ', ' ', ' ', ' ', ' ', ' ', ' ', ' ', ' ']\n"
          ],
          "name": "stdout"
        }
      ]
    },
    {
      "cell_type": "markdown",
      "metadata": {
        "id": "M27XU_wocake",
        "colab_type": "text"
      },
      "source": [
        "### Fixing `TotalCharges`\n",
        "We drop (11) rows with whitespaces entries for `TotalCharges`. Then, we can finally convert `TotalCharges` to float"
      ]
    },
    {
      "cell_type": "code",
      "metadata": {
        "id": "eoJOSurqcakf",
        "colab_type": "code",
        "colab": {
          "base_uri": "https://localhost:8080/",
          "height": 1000
        },
        "outputId": "ce3a5e6b-bac1-449b-bc86-6054459decf9"
      },
      "source": [
        "df = df[df[\"TotalCharges\"]!= \" \"]\n",
        "df = df.reset_index()[df.columns]\n",
        "\n",
        "# We can finally convert TotalCharges to float\n",
        "df[\"TotalCharges\"] = df[\"TotalCharges\"].astype(float)\n",
        "\n",
        "print(df.info())\n",
        "df.head()"
      ],
      "execution_count": 9,
      "outputs": [
        {
          "output_type": "stream",
          "text": [
            "<class 'pandas.core.frame.DataFrame'>\n",
            "RangeIndex: 7032 entries, 0 to 7031\n",
            "Data columns (total 43 columns):\n",
            " #   Column                                       Non-Null Count  Dtype  \n",
            "---  ------                                       --------------  -----  \n",
            " 0   gender                                       7032 non-null   object \n",
            " 1   SeniorCitizen                                7032 non-null   int64  \n",
            " 2   Partner                                      7032 non-null   object \n",
            " 3   Dependents                                   7032 non-null   object \n",
            " 4   tenure                                       7032 non-null   int64  \n",
            " 5   PhoneService                                 7032 non-null   object \n",
            " 6   MultipleLines                                7032 non-null   object \n",
            " 7   InternetService                              7032 non-null   object \n",
            " 8   OnlineSecurity                               7032 non-null   object \n",
            " 9   OnlineBackup                                 7032 non-null   object \n",
            " 10  DeviceProtection                             7032 non-null   object \n",
            " 11  TechSupport                                  7032 non-null   object \n",
            " 12  StreamingTV                                  7032 non-null   object \n",
            " 13  StreamingMovies                              7032 non-null   object \n",
            " 14  Contract                                     7032 non-null   object \n",
            " 15  PaperlessBilling                             7032 non-null   object \n",
            " 16  PaymentMethod                                7032 non-null   object \n",
            " 17  MonthlyCharges                               7032 non-null   float64\n",
            " 18  TotalCharges                                 7032 non-null   float64\n",
            " 19  Churn                                        7032 non-null   object \n",
            " 20  boolPartner                                  7032 non-null   uint8  \n",
            " 21  boolDependents                               7032 non-null   uint8  \n",
            " 22  boolPhoneService                             7032 non-null   uint8  \n",
            " 23  boolMultipleLines                            7032 non-null   uint8  \n",
            " 24  boolOnlineSecurity                           7032 non-null   uint8  \n",
            " 25  boolOnlineBackup                             7032 non-null   uint8  \n",
            " 26  boolDeviceProtection                         7032 non-null   uint8  \n",
            " 27  boolTechSupport                              7032 non-null   uint8  \n",
            " 28  boolStreamingTV                              7032 non-null   uint8  \n",
            " 29  boolStreamingMovies                          7032 non-null   uint8  \n",
            " 30  boolPaperlessBilling                         7032 non-null   uint8  \n",
            " 31  boolChurn                                    7032 non-null   uint8  \n",
            " 32  boolMale                                     7032 non-null   uint8  \n",
            " 33  boolInternetService_DSL                      7032 non-null   uint8  \n",
            " 34  boolInternetService_Fiber optic              7032 non-null   uint8  \n",
            " 35  boolInternetService_No                       7032 non-null   uint8  \n",
            " 36  boolContract_Month-to-month                  7032 non-null   uint8  \n",
            " 37  boolContract_One year                        7032 non-null   uint8  \n",
            " 38  boolContract_Two year                        7032 non-null   uint8  \n",
            " 39  boolPaymentMethod_Bank transfer (automatic)  7032 non-null   uint8  \n",
            " 40  boolPaymentMethod_Credit card (automatic)    7032 non-null   uint8  \n",
            " 41  boolPaymentMethod_Electronic check           7032 non-null   uint8  \n",
            " 42  boolPaymentMethod_Mailed check               7032 non-null   uint8  \n",
            "dtypes: float64(2), int64(2), object(16), uint8(23)\n",
            "memory usage: 1.2+ MB\n",
            "None\n"
          ],
          "name": "stdout"
        },
        {
          "output_type": "execute_result",
          "data": {
            "text/html": [
              "<div>\n",
              "<style scoped>\n",
              "    .dataframe tbody tr th:only-of-type {\n",
              "        vertical-align: middle;\n",
              "    }\n",
              "\n",
              "    .dataframe tbody tr th {\n",
              "        vertical-align: top;\n",
              "    }\n",
              "\n",
              "    .dataframe thead th {\n",
              "        text-align: right;\n",
              "    }\n",
              "</style>\n",
              "<table border=\"1\" class=\"dataframe\">\n",
              "  <thead>\n",
              "    <tr style=\"text-align: right;\">\n",
              "      <th></th>\n",
              "      <th>gender</th>\n",
              "      <th>SeniorCitizen</th>\n",
              "      <th>Partner</th>\n",
              "      <th>Dependents</th>\n",
              "      <th>tenure</th>\n",
              "      <th>PhoneService</th>\n",
              "      <th>MultipleLines</th>\n",
              "      <th>InternetService</th>\n",
              "      <th>OnlineSecurity</th>\n",
              "      <th>OnlineBackup</th>\n",
              "      <th>DeviceProtection</th>\n",
              "      <th>TechSupport</th>\n",
              "      <th>StreamingTV</th>\n",
              "      <th>StreamingMovies</th>\n",
              "      <th>Contract</th>\n",
              "      <th>PaperlessBilling</th>\n",
              "      <th>PaymentMethod</th>\n",
              "      <th>MonthlyCharges</th>\n",
              "      <th>TotalCharges</th>\n",
              "      <th>Churn</th>\n",
              "      <th>boolPartner</th>\n",
              "      <th>boolDependents</th>\n",
              "      <th>boolPhoneService</th>\n",
              "      <th>boolMultipleLines</th>\n",
              "      <th>boolOnlineSecurity</th>\n",
              "      <th>boolOnlineBackup</th>\n",
              "      <th>boolDeviceProtection</th>\n",
              "      <th>boolTechSupport</th>\n",
              "      <th>boolStreamingTV</th>\n",
              "      <th>boolStreamingMovies</th>\n",
              "      <th>boolPaperlessBilling</th>\n",
              "      <th>boolChurn</th>\n",
              "      <th>boolMale</th>\n",
              "      <th>boolInternetService_DSL</th>\n",
              "      <th>boolInternetService_Fiber optic</th>\n",
              "      <th>boolInternetService_No</th>\n",
              "      <th>boolContract_Month-to-month</th>\n",
              "      <th>boolContract_One year</th>\n",
              "      <th>boolContract_Two year</th>\n",
              "      <th>boolPaymentMethod_Bank transfer (automatic)</th>\n",
              "      <th>boolPaymentMethod_Credit card (automatic)</th>\n",
              "      <th>boolPaymentMethod_Electronic check</th>\n",
              "      <th>boolPaymentMethod_Mailed check</th>\n",
              "    </tr>\n",
              "  </thead>\n",
              "  <tbody>\n",
              "    <tr>\n",
              "      <th>0</th>\n",
              "      <td>Female</td>\n",
              "      <td>0</td>\n",
              "      <td>Yes</td>\n",
              "      <td>No</td>\n",
              "      <td>1</td>\n",
              "      <td>No</td>\n",
              "      <td>No</td>\n",
              "      <td>DSL</td>\n",
              "      <td>No</td>\n",
              "      <td>Yes</td>\n",
              "      <td>No</td>\n",
              "      <td>No</td>\n",
              "      <td>No</td>\n",
              "      <td>No</td>\n",
              "      <td>Month-to-month</td>\n",
              "      <td>Yes</td>\n",
              "      <td>Electronic check</td>\n",
              "      <td>29.85</td>\n",
              "      <td>29.85</td>\n",
              "      <td>No</td>\n",
              "      <td>1</td>\n",
              "      <td>0</td>\n",
              "      <td>0</td>\n",
              "      <td>0</td>\n",
              "      <td>0</td>\n",
              "      <td>1</td>\n",
              "      <td>0</td>\n",
              "      <td>0</td>\n",
              "      <td>0</td>\n",
              "      <td>0</td>\n",
              "      <td>1</td>\n",
              "      <td>0</td>\n",
              "      <td>0</td>\n",
              "      <td>1</td>\n",
              "      <td>0</td>\n",
              "      <td>0</td>\n",
              "      <td>1</td>\n",
              "      <td>0</td>\n",
              "      <td>0</td>\n",
              "      <td>0</td>\n",
              "      <td>0</td>\n",
              "      <td>1</td>\n",
              "      <td>0</td>\n",
              "    </tr>\n",
              "    <tr>\n",
              "      <th>1</th>\n",
              "      <td>Male</td>\n",
              "      <td>0</td>\n",
              "      <td>No</td>\n",
              "      <td>No</td>\n",
              "      <td>34</td>\n",
              "      <td>Yes</td>\n",
              "      <td>No</td>\n",
              "      <td>DSL</td>\n",
              "      <td>Yes</td>\n",
              "      <td>No</td>\n",
              "      <td>Yes</td>\n",
              "      <td>No</td>\n",
              "      <td>No</td>\n",
              "      <td>No</td>\n",
              "      <td>One year</td>\n",
              "      <td>No</td>\n",
              "      <td>Mailed check</td>\n",
              "      <td>56.95</td>\n",
              "      <td>1889.50</td>\n",
              "      <td>No</td>\n",
              "      <td>0</td>\n",
              "      <td>0</td>\n",
              "      <td>1</td>\n",
              "      <td>0</td>\n",
              "      <td>1</td>\n",
              "      <td>0</td>\n",
              "      <td>1</td>\n",
              "      <td>0</td>\n",
              "      <td>0</td>\n",
              "      <td>0</td>\n",
              "      <td>0</td>\n",
              "      <td>0</td>\n",
              "      <td>1</td>\n",
              "      <td>1</td>\n",
              "      <td>0</td>\n",
              "      <td>0</td>\n",
              "      <td>0</td>\n",
              "      <td>1</td>\n",
              "      <td>0</td>\n",
              "      <td>0</td>\n",
              "      <td>0</td>\n",
              "      <td>0</td>\n",
              "      <td>1</td>\n",
              "    </tr>\n",
              "    <tr>\n",
              "      <th>2</th>\n",
              "      <td>Male</td>\n",
              "      <td>0</td>\n",
              "      <td>No</td>\n",
              "      <td>No</td>\n",
              "      <td>2</td>\n",
              "      <td>Yes</td>\n",
              "      <td>No</td>\n",
              "      <td>DSL</td>\n",
              "      <td>Yes</td>\n",
              "      <td>Yes</td>\n",
              "      <td>No</td>\n",
              "      <td>No</td>\n",
              "      <td>No</td>\n",
              "      <td>No</td>\n",
              "      <td>Month-to-month</td>\n",
              "      <td>Yes</td>\n",
              "      <td>Mailed check</td>\n",
              "      <td>53.85</td>\n",
              "      <td>108.15</td>\n",
              "      <td>Yes</td>\n",
              "      <td>0</td>\n",
              "      <td>0</td>\n",
              "      <td>1</td>\n",
              "      <td>0</td>\n",
              "      <td>1</td>\n",
              "      <td>1</td>\n",
              "      <td>0</td>\n",
              "      <td>0</td>\n",
              "      <td>0</td>\n",
              "      <td>0</td>\n",
              "      <td>1</td>\n",
              "      <td>1</td>\n",
              "      <td>1</td>\n",
              "      <td>1</td>\n",
              "      <td>0</td>\n",
              "      <td>0</td>\n",
              "      <td>1</td>\n",
              "      <td>0</td>\n",
              "      <td>0</td>\n",
              "      <td>0</td>\n",
              "      <td>0</td>\n",
              "      <td>0</td>\n",
              "      <td>1</td>\n",
              "    </tr>\n",
              "    <tr>\n",
              "      <th>3</th>\n",
              "      <td>Male</td>\n",
              "      <td>0</td>\n",
              "      <td>No</td>\n",
              "      <td>No</td>\n",
              "      <td>45</td>\n",
              "      <td>No</td>\n",
              "      <td>No</td>\n",
              "      <td>DSL</td>\n",
              "      <td>Yes</td>\n",
              "      <td>No</td>\n",
              "      <td>Yes</td>\n",
              "      <td>Yes</td>\n",
              "      <td>No</td>\n",
              "      <td>No</td>\n",
              "      <td>One year</td>\n",
              "      <td>No</td>\n",
              "      <td>Bank transfer (automatic)</td>\n",
              "      <td>42.30</td>\n",
              "      <td>1840.75</td>\n",
              "      <td>No</td>\n",
              "      <td>0</td>\n",
              "      <td>0</td>\n",
              "      <td>0</td>\n",
              "      <td>0</td>\n",
              "      <td>1</td>\n",
              "      <td>0</td>\n",
              "      <td>1</td>\n",
              "      <td>1</td>\n",
              "      <td>0</td>\n",
              "      <td>0</td>\n",
              "      <td>0</td>\n",
              "      <td>0</td>\n",
              "      <td>1</td>\n",
              "      <td>1</td>\n",
              "      <td>0</td>\n",
              "      <td>0</td>\n",
              "      <td>0</td>\n",
              "      <td>1</td>\n",
              "      <td>0</td>\n",
              "      <td>1</td>\n",
              "      <td>0</td>\n",
              "      <td>0</td>\n",
              "      <td>0</td>\n",
              "    </tr>\n",
              "    <tr>\n",
              "      <th>4</th>\n",
              "      <td>Female</td>\n",
              "      <td>0</td>\n",
              "      <td>No</td>\n",
              "      <td>No</td>\n",
              "      <td>2</td>\n",
              "      <td>Yes</td>\n",
              "      <td>No</td>\n",
              "      <td>Fiber optic</td>\n",
              "      <td>No</td>\n",
              "      <td>No</td>\n",
              "      <td>No</td>\n",
              "      <td>No</td>\n",
              "      <td>No</td>\n",
              "      <td>No</td>\n",
              "      <td>Month-to-month</td>\n",
              "      <td>Yes</td>\n",
              "      <td>Electronic check</td>\n",
              "      <td>70.70</td>\n",
              "      <td>151.65</td>\n",
              "      <td>Yes</td>\n",
              "      <td>0</td>\n",
              "      <td>0</td>\n",
              "      <td>1</td>\n",
              "      <td>0</td>\n",
              "      <td>0</td>\n",
              "      <td>0</td>\n",
              "      <td>0</td>\n",
              "      <td>0</td>\n",
              "      <td>0</td>\n",
              "      <td>0</td>\n",
              "      <td>1</td>\n",
              "      <td>1</td>\n",
              "      <td>0</td>\n",
              "      <td>0</td>\n",
              "      <td>1</td>\n",
              "      <td>0</td>\n",
              "      <td>1</td>\n",
              "      <td>0</td>\n",
              "      <td>0</td>\n",
              "      <td>0</td>\n",
              "      <td>0</td>\n",
              "      <td>1</td>\n",
              "      <td>0</td>\n",
              "    </tr>\n",
              "  </tbody>\n",
              "</table>\n",
              "</div>"
            ],
            "text/plain": [
              "   gender  ...  boolPaymentMethod_Mailed check\n",
              "0  Female  ...                               0\n",
              "1    Male  ...                               1\n",
              "2    Male  ...                               1\n",
              "3    Male  ...                               0\n",
              "4  Female  ...                               0\n",
              "\n",
              "[5 rows x 43 columns]"
            ]
          },
          "metadata": {
            "tags": []
          },
          "execution_count": 9
        }
      ]
    },
    {
      "cell_type": "markdown",
      "metadata": {
        "id": "jRqhfd9figqf",
        "colab_type": "text"
      },
      "source": [
        "### Normalizing numerical features\n",
        "Columns `tenure`, `MonthlyCharges` and `TotalCharges` contain numbers. It is good practice to squash their values between 0 and 1, as this will reduce training time for our models later on.\n"
      ]
    },
    {
      "cell_type": "code",
      "metadata": {
        "id": "5ex_9zzDcakk",
        "colab_type": "code",
        "colab": {
          "base_uri": "https://localhost:8080/",
          "height": 234
        },
        "outputId": "08dca151-2fbb-47ee-cc26-e06e098e2481"
      },
      "source": [
        "# We get all the numerical features\n",
        "data = df.select_dtypes(np.number)\n",
        "data.head()"
      ],
      "execution_count": 10,
      "outputs": [
        {
          "output_type": "execute_result",
          "data": {
            "text/html": [
              "<div>\n",
              "<style scoped>\n",
              "    .dataframe tbody tr th:only-of-type {\n",
              "        vertical-align: middle;\n",
              "    }\n",
              "\n",
              "    .dataframe tbody tr th {\n",
              "        vertical-align: top;\n",
              "    }\n",
              "\n",
              "    .dataframe thead th {\n",
              "        text-align: right;\n",
              "    }\n",
              "</style>\n",
              "<table border=\"1\" class=\"dataframe\">\n",
              "  <thead>\n",
              "    <tr style=\"text-align: right;\">\n",
              "      <th></th>\n",
              "      <th>SeniorCitizen</th>\n",
              "      <th>tenure</th>\n",
              "      <th>MonthlyCharges</th>\n",
              "      <th>TotalCharges</th>\n",
              "      <th>boolPartner</th>\n",
              "      <th>boolDependents</th>\n",
              "      <th>boolPhoneService</th>\n",
              "      <th>boolMultipleLines</th>\n",
              "      <th>boolOnlineSecurity</th>\n",
              "      <th>boolOnlineBackup</th>\n",
              "      <th>boolDeviceProtection</th>\n",
              "      <th>boolTechSupport</th>\n",
              "      <th>boolStreamingTV</th>\n",
              "      <th>boolStreamingMovies</th>\n",
              "      <th>boolPaperlessBilling</th>\n",
              "      <th>boolChurn</th>\n",
              "      <th>boolMale</th>\n",
              "      <th>boolInternetService_DSL</th>\n",
              "      <th>boolInternetService_Fiber optic</th>\n",
              "      <th>boolInternetService_No</th>\n",
              "      <th>boolContract_Month-to-month</th>\n",
              "      <th>boolContract_One year</th>\n",
              "      <th>boolContract_Two year</th>\n",
              "      <th>boolPaymentMethod_Bank transfer (automatic)</th>\n",
              "      <th>boolPaymentMethod_Credit card (automatic)</th>\n",
              "      <th>boolPaymentMethod_Electronic check</th>\n",
              "      <th>boolPaymentMethod_Mailed check</th>\n",
              "    </tr>\n",
              "  </thead>\n",
              "  <tbody>\n",
              "    <tr>\n",
              "      <th>0</th>\n",
              "      <td>0</td>\n",
              "      <td>1</td>\n",
              "      <td>29.85</td>\n",
              "      <td>29.85</td>\n",
              "      <td>1</td>\n",
              "      <td>0</td>\n",
              "      <td>0</td>\n",
              "      <td>0</td>\n",
              "      <td>0</td>\n",
              "      <td>1</td>\n",
              "      <td>0</td>\n",
              "      <td>0</td>\n",
              "      <td>0</td>\n",
              "      <td>0</td>\n",
              "      <td>1</td>\n",
              "      <td>0</td>\n",
              "      <td>0</td>\n",
              "      <td>1</td>\n",
              "      <td>0</td>\n",
              "      <td>0</td>\n",
              "      <td>1</td>\n",
              "      <td>0</td>\n",
              "      <td>0</td>\n",
              "      <td>0</td>\n",
              "      <td>0</td>\n",
              "      <td>1</td>\n",
              "      <td>0</td>\n",
              "    </tr>\n",
              "    <tr>\n",
              "      <th>1</th>\n",
              "      <td>0</td>\n",
              "      <td>34</td>\n",
              "      <td>56.95</td>\n",
              "      <td>1889.50</td>\n",
              "      <td>0</td>\n",
              "      <td>0</td>\n",
              "      <td>1</td>\n",
              "      <td>0</td>\n",
              "      <td>1</td>\n",
              "      <td>0</td>\n",
              "      <td>1</td>\n",
              "      <td>0</td>\n",
              "      <td>0</td>\n",
              "      <td>0</td>\n",
              "      <td>0</td>\n",
              "      <td>0</td>\n",
              "      <td>1</td>\n",
              "      <td>1</td>\n",
              "      <td>0</td>\n",
              "      <td>0</td>\n",
              "      <td>0</td>\n",
              "      <td>1</td>\n",
              "      <td>0</td>\n",
              "      <td>0</td>\n",
              "      <td>0</td>\n",
              "      <td>0</td>\n",
              "      <td>1</td>\n",
              "    </tr>\n",
              "    <tr>\n",
              "      <th>2</th>\n",
              "      <td>0</td>\n",
              "      <td>2</td>\n",
              "      <td>53.85</td>\n",
              "      <td>108.15</td>\n",
              "      <td>0</td>\n",
              "      <td>0</td>\n",
              "      <td>1</td>\n",
              "      <td>0</td>\n",
              "      <td>1</td>\n",
              "      <td>1</td>\n",
              "      <td>0</td>\n",
              "      <td>0</td>\n",
              "      <td>0</td>\n",
              "      <td>0</td>\n",
              "      <td>1</td>\n",
              "      <td>1</td>\n",
              "      <td>1</td>\n",
              "      <td>1</td>\n",
              "      <td>0</td>\n",
              "      <td>0</td>\n",
              "      <td>1</td>\n",
              "      <td>0</td>\n",
              "      <td>0</td>\n",
              "      <td>0</td>\n",
              "      <td>0</td>\n",
              "      <td>0</td>\n",
              "      <td>1</td>\n",
              "    </tr>\n",
              "    <tr>\n",
              "      <th>3</th>\n",
              "      <td>0</td>\n",
              "      <td>45</td>\n",
              "      <td>42.30</td>\n",
              "      <td>1840.75</td>\n",
              "      <td>0</td>\n",
              "      <td>0</td>\n",
              "      <td>0</td>\n",
              "      <td>0</td>\n",
              "      <td>1</td>\n",
              "      <td>0</td>\n",
              "      <td>1</td>\n",
              "      <td>1</td>\n",
              "      <td>0</td>\n",
              "      <td>0</td>\n",
              "      <td>0</td>\n",
              "      <td>0</td>\n",
              "      <td>1</td>\n",
              "      <td>1</td>\n",
              "      <td>0</td>\n",
              "      <td>0</td>\n",
              "      <td>0</td>\n",
              "      <td>1</td>\n",
              "      <td>0</td>\n",
              "      <td>1</td>\n",
              "      <td>0</td>\n",
              "      <td>0</td>\n",
              "      <td>0</td>\n",
              "    </tr>\n",
              "    <tr>\n",
              "      <th>4</th>\n",
              "      <td>0</td>\n",
              "      <td>2</td>\n",
              "      <td>70.70</td>\n",
              "      <td>151.65</td>\n",
              "      <td>0</td>\n",
              "      <td>0</td>\n",
              "      <td>1</td>\n",
              "      <td>0</td>\n",
              "      <td>0</td>\n",
              "      <td>0</td>\n",
              "      <td>0</td>\n",
              "      <td>0</td>\n",
              "      <td>0</td>\n",
              "      <td>0</td>\n",
              "      <td>1</td>\n",
              "      <td>1</td>\n",
              "      <td>0</td>\n",
              "      <td>0</td>\n",
              "      <td>1</td>\n",
              "      <td>0</td>\n",
              "      <td>1</td>\n",
              "      <td>0</td>\n",
              "      <td>0</td>\n",
              "      <td>0</td>\n",
              "      <td>0</td>\n",
              "      <td>1</td>\n",
              "      <td>0</td>\n",
              "    </tr>\n",
              "  </tbody>\n",
              "</table>\n",
              "</div>"
            ],
            "text/plain": [
              "   SeniorCitizen  ...  boolPaymentMethod_Mailed check\n",
              "0              0  ...                               0\n",
              "1              0  ...                               1\n",
              "2              0  ...                               1\n",
              "3              0  ...                               0\n",
              "4              0  ...                               0\n",
              "\n",
              "[5 rows x 27 columns]"
            ]
          },
          "metadata": {
            "tags": []
          },
          "execution_count": 10
        }
      ]
    },
    {
      "cell_type": "code",
      "metadata": {
        "id": "TCoRior9cakm",
        "colab_type": "code",
        "colab": {
          "base_uri": "https://localhost:8080/",
          "height": 334
        },
        "outputId": "3c65e1f4-309c-410d-a33e-910fb1f3f3c1"
      },
      "source": [
        "def normalizeColumn(dataframe, columns):\n",
        "    for column in columns:\n",
        "        minVal = data[column].min()\n",
        "        maxVal = data[column].max()\n",
        "        dataframe[column] = ( dataframe[column] - minVal ) / (maxVal - minVal)\n",
        "    return dataframe;\n",
        "\n",
        "data = normalizeColumn(data, [\"tenure\", \"MonthlyCharges\", \"TotalCharges\"])\n",
        "data.head()"
      ],
      "execution_count": 11,
      "outputs": [
        {
          "output_type": "stream",
          "text": [
            "/usr/local/lib/python3.6/dist-packages/ipykernel_launcher.py:5: SettingWithCopyWarning: \n",
            "A value is trying to be set on a copy of a slice from a DataFrame.\n",
            "Try using .loc[row_indexer,col_indexer] = value instead\n",
            "\n",
            "See the caveats in the documentation: https://pandas.pydata.org/pandas-docs/stable/user_guide/indexing.html#returning-a-view-versus-a-copy\n",
            "  \"\"\"\n"
          ],
          "name": "stderr"
        },
        {
          "output_type": "execute_result",
          "data": {
            "text/html": [
              "<div>\n",
              "<style scoped>\n",
              "    .dataframe tbody tr th:only-of-type {\n",
              "        vertical-align: middle;\n",
              "    }\n",
              "\n",
              "    .dataframe tbody tr th {\n",
              "        vertical-align: top;\n",
              "    }\n",
              "\n",
              "    .dataframe thead th {\n",
              "        text-align: right;\n",
              "    }\n",
              "</style>\n",
              "<table border=\"1\" class=\"dataframe\">\n",
              "  <thead>\n",
              "    <tr style=\"text-align: right;\">\n",
              "      <th></th>\n",
              "      <th>SeniorCitizen</th>\n",
              "      <th>tenure</th>\n",
              "      <th>MonthlyCharges</th>\n",
              "      <th>TotalCharges</th>\n",
              "      <th>boolPartner</th>\n",
              "      <th>boolDependents</th>\n",
              "      <th>boolPhoneService</th>\n",
              "      <th>boolMultipleLines</th>\n",
              "      <th>boolOnlineSecurity</th>\n",
              "      <th>boolOnlineBackup</th>\n",
              "      <th>boolDeviceProtection</th>\n",
              "      <th>boolTechSupport</th>\n",
              "      <th>boolStreamingTV</th>\n",
              "      <th>boolStreamingMovies</th>\n",
              "      <th>boolPaperlessBilling</th>\n",
              "      <th>boolChurn</th>\n",
              "      <th>boolMale</th>\n",
              "      <th>boolInternetService_DSL</th>\n",
              "      <th>boolInternetService_Fiber optic</th>\n",
              "      <th>boolInternetService_No</th>\n",
              "      <th>boolContract_Month-to-month</th>\n",
              "      <th>boolContract_One year</th>\n",
              "      <th>boolContract_Two year</th>\n",
              "      <th>boolPaymentMethod_Bank transfer (automatic)</th>\n",
              "      <th>boolPaymentMethod_Credit card (automatic)</th>\n",
              "      <th>boolPaymentMethod_Electronic check</th>\n",
              "      <th>boolPaymentMethod_Mailed check</th>\n",
              "    </tr>\n",
              "  </thead>\n",
              "  <tbody>\n",
              "    <tr>\n",
              "      <th>0</th>\n",
              "      <td>0</td>\n",
              "      <td>0.000000</td>\n",
              "      <td>0.115423</td>\n",
              "      <td>0.001275</td>\n",
              "      <td>1</td>\n",
              "      <td>0</td>\n",
              "      <td>0</td>\n",
              "      <td>0</td>\n",
              "      <td>0</td>\n",
              "      <td>1</td>\n",
              "      <td>0</td>\n",
              "      <td>0</td>\n",
              "      <td>0</td>\n",
              "      <td>0</td>\n",
              "      <td>1</td>\n",
              "      <td>0</td>\n",
              "      <td>0</td>\n",
              "      <td>1</td>\n",
              "      <td>0</td>\n",
              "      <td>0</td>\n",
              "      <td>1</td>\n",
              "      <td>0</td>\n",
              "      <td>0</td>\n",
              "      <td>0</td>\n",
              "      <td>0</td>\n",
              "      <td>1</td>\n",
              "      <td>0</td>\n",
              "    </tr>\n",
              "    <tr>\n",
              "      <th>1</th>\n",
              "      <td>0</td>\n",
              "      <td>0.464789</td>\n",
              "      <td>0.385075</td>\n",
              "      <td>0.215867</td>\n",
              "      <td>0</td>\n",
              "      <td>0</td>\n",
              "      <td>1</td>\n",
              "      <td>0</td>\n",
              "      <td>1</td>\n",
              "      <td>0</td>\n",
              "      <td>1</td>\n",
              "      <td>0</td>\n",
              "      <td>0</td>\n",
              "      <td>0</td>\n",
              "      <td>0</td>\n",
              "      <td>0</td>\n",
              "      <td>1</td>\n",
              "      <td>1</td>\n",
              "      <td>0</td>\n",
              "      <td>0</td>\n",
              "      <td>0</td>\n",
              "      <td>1</td>\n",
              "      <td>0</td>\n",
              "      <td>0</td>\n",
              "      <td>0</td>\n",
              "      <td>0</td>\n",
              "      <td>1</td>\n",
              "    </tr>\n",
              "    <tr>\n",
              "      <th>2</th>\n",
              "      <td>0</td>\n",
              "      <td>0.014085</td>\n",
              "      <td>0.354229</td>\n",
              "      <td>0.010310</td>\n",
              "      <td>0</td>\n",
              "      <td>0</td>\n",
              "      <td>1</td>\n",
              "      <td>0</td>\n",
              "      <td>1</td>\n",
              "      <td>1</td>\n",
              "      <td>0</td>\n",
              "      <td>0</td>\n",
              "      <td>0</td>\n",
              "      <td>0</td>\n",
              "      <td>1</td>\n",
              "      <td>1</td>\n",
              "      <td>1</td>\n",
              "      <td>1</td>\n",
              "      <td>0</td>\n",
              "      <td>0</td>\n",
              "      <td>1</td>\n",
              "      <td>0</td>\n",
              "      <td>0</td>\n",
              "      <td>0</td>\n",
              "      <td>0</td>\n",
              "      <td>0</td>\n",
              "      <td>1</td>\n",
              "    </tr>\n",
              "    <tr>\n",
              "      <th>3</th>\n",
              "      <td>0</td>\n",
              "      <td>0.619718</td>\n",
              "      <td>0.239303</td>\n",
              "      <td>0.210241</td>\n",
              "      <td>0</td>\n",
              "      <td>0</td>\n",
              "      <td>0</td>\n",
              "      <td>0</td>\n",
              "      <td>1</td>\n",
              "      <td>0</td>\n",
              "      <td>1</td>\n",
              "      <td>1</td>\n",
              "      <td>0</td>\n",
              "      <td>0</td>\n",
              "      <td>0</td>\n",
              "      <td>0</td>\n",
              "      <td>1</td>\n",
              "      <td>1</td>\n",
              "      <td>0</td>\n",
              "      <td>0</td>\n",
              "      <td>0</td>\n",
              "      <td>1</td>\n",
              "      <td>0</td>\n",
              "      <td>1</td>\n",
              "      <td>0</td>\n",
              "      <td>0</td>\n",
              "      <td>0</td>\n",
              "    </tr>\n",
              "    <tr>\n",
              "      <th>4</th>\n",
              "      <td>0</td>\n",
              "      <td>0.014085</td>\n",
              "      <td>0.521891</td>\n",
              "      <td>0.015330</td>\n",
              "      <td>0</td>\n",
              "      <td>0</td>\n",
              "      <td>1</td>\n",
              "      <td>0</td>\n",
              "      <td>0</td>\n",
              "      <td>0</td>\n",
              "      <td>0</td>\n",
              "      <td>0</td>\n",
              "      <td>0</td>\n",
              "      <td>0</td>\n",
              "      <td>1</td>\n",
              "      <td>1</td>\n",
              "      <td>0</td>\n",
              "      <td>0</td>\n",
              "      <td>1</td>\n",
              "      <td>0</td>\n",
              "      <td>1</td>\n",
              "      <td>0</td>\n",
              "      <td>0</td>\n",
              "      <td>0</td>\n",
              "      <td>0</td>\n",
              "      <td>1</td>\n",
              "      <td>0</td>\n",
              "    </tr>\n",
              "  </tbody>\n",
              "</table>\n",
              "</div>"
            ],
            "text/plain": [
              "   SeniorCitizen  ...  boolPaymentMethod_Mailed check\n",
              "0              0  ...                               0\n",
              "1              0  ...                               1\n",
              "2              0  ...                               1\n",
              "3              0  ...                               0\n",
              "4              0  ...                               0\n",
              "\n",
              "[5 rows x 27 columns]"
            ]
          },
          "metadata": {
            "tags": []
          },
          "execution_count": 11
        }
      ]
    },
    {
      "cell_type": "markdown",
      "metadata": {
        "id": "XvPa6T2KjvY7",
        "colab_type": "text"
      },
      "source": [
        "## 3. Models evaluation\n",
        "In this section, we evaluate the performance of various *machine learning* models, as well as a small *neural network*.\n",
        "\n",
        "To do so, we first define training and a test data from the previously pre-processed dataset."
      ]
    },
    {
      "cell_type": "code",
      "metadata": {
        "id": "ylGPFkmLcakp",
        "colab_type": "code",
        "colab": {
          "base_uri": "https://localhost:8080/",
          "height": 50
        },
        "outputId": "702aa8ed-f180-4066-dcf2-d2a3cbe71463"
      },
      "source": [
        "from sklearn.model_selection import train_test_split\n",
        "y = data[\"boolChurn\"]\n",
        "X = data.drop('boolChurn',axis = 1)\n",
        "X_train, X_test, y_train, y_test = train_test_split(X, y, test_size=0.2, random_state=0)\n",
        "\n",
        "print(X_train.shape, y_train.shape)\n",
        "print(X_test.shape, y_test.shape)"
      ],
      "execution_count": 12,
      "outputs": [
        {
          "output_type": "stream",
          "text": [
            "(5625, 26) (5625,)\n",
            "(1407, 26) (1407,)\n"
          ],
          "name": "stdout"
        }
      ]
    },
    {
      "cell_type": "markdown",
      "metadata": {
        "id": "a4x4XTvVoQX5",
        "colab_type": "text"
      },
      "source": [
        "### Machine Learning models"
      ]
    },
    {
      "cell_type": "markdown",
      "metadata": {
        "id": "YIQPqC8yAdrJ",
        "colab_type": "text"
      },
      "source": [
        "#### Classifiers list"
      ]
    },
    {
      "cell_type": "markdown",
      "metadata": {
        "id": "RsgtfApBAN-W",
        "colab_type": "text"
      },
      "source": [
        "The models we evaluate are: \n",
        "- K-NN Classifier\n",
        "- Support Vector Classifier (SVC)\n",
        "- Logistic Regression Classifier\n",
        "- Random Forest Classifier\n",
        "- Naive Bayes Classifier.\n",
        "\n",
        "For each classifier, we run a Grid Search with cross-validation. After a first Grid Search, we plot the runs using a function written by us `plotGridSearchRuns()` to keep the code more clean.\n",
        "\n",
        "`plotGridSearchRuns()` visualizes a heat-map with all the runs of cross-validation, with a particular\n",
        "parameter setting. Cross-validation accuracy is encoded with color. The lighter the color, the higher the accuracy.  It allows us to optimize the region searched for the various parameters.\n",
        "\n",
        "`plotGridSearchRuns()` can only plot two parameters from the parameter grid, since it would become troublesome to visualize more than three dimensions (the three dimensions being the two parameters and the accuracy)."
      ]
    },
    {
      "cell_type": "code",
      "metadata": {
        "id": "i0joHBRaz1QE",
        "colab_type": "code",
        "colab": {}
      },
      "source": [
        "# Since we run this Notebook on Colab, we had to install mglearn using pip\n",
        "# !pip install mglearn"
      ],
      "execution_count": 0,
      "outputs": []
    },
    {
      "cell_type": "code",
      "metadata": {
        "id": "KvYJywn64PGV",
        "colab_type": "code",
        "colab": {}
      },
      "source": [
        "from sklearn.model_selection import GridSearchCV\n",
        "\n",
        "# The following simply generalize our GridSearchCV code, so that future sections are easier to read\n",
        "def runGridSearch(model, param_grid, cv=5):\n",
        "  global grid_search\n",
        "  grid_search = GridSearchCV(model, param_grid, cv=cv)\n",
        "  grid_search.fit(X_train, y_train)\n",
        "  print(\"Test set score: {:.2f}\".format(grid_search.score(X_test, y_test)))\n",
        "  print(\"Best parameters: {}\".format(grid_search.best_params_))\n",
        "  print(\"Best cross-validation score: {:.2f}\".format(grid_search.best_score_))\n",
        "\n",
        "# Notice that the following function only supports two input parameters.\n",
        "# It would become troublesome to visualize more than three dimensions (the two parameters and the accuracy)\n",
        "import mglearn\n",
        "\n",
        "def plotGridSearchRuns(firstParam, secondParam, cmap=\"viridis\"):\n",
        "  results = pd.DataFrame(grid_search.cv_results_)\n",
        "  scores = np.array(results.mean_test_score).reshape(len(param_grid[firstParam]), len(param_grid[secondParam]))\n",
        "  mglearn.tools.heatmap(scores, xlabel=secondParam, xticklabels=param_grid[secondParam],\n",
        "  ylabel=firstParam, yticklabels=param_grid[firstParam], cmap=cmap)\n",
        "  \n"
      ],
      "execution_count": 0,
      "outputs": []
    },
    {
      "cell_type": "markdown",
      "metadata": {
        "id": "hZhCa1Lk9Mme",
        "colab_type": "text"
      },
      "source": [
        "#### k-Nearest Neighbors (k-NN)"
      ]
    },
    {
      "cell_type": "code",
      "metadata": {
        "id": "AFMa_T7A9Tkr",
        "colab_type": "code",
        "colab": {
          "base_uri": "https://localhost:8080/",
          "height": 67
        },
        "outputId": "bac1cc35-5639-41bf-b989-e61547dc1ef3"
      },
      "source": [
        "from sklearn.neighbors import KNeighborsClassifier\n",
        "\n",
        "param_grid = {'n_neighbors': [1, 3, 5, 7, 10],\n",
        "'weights': ['uniform', 'distance']}\n",
        "\n",
        "\n",
        "runGridSearch(KNeighborsClassifier(), param_grid)"
      ],
      "execution_count": 50,
      "outputs": [
        {
          "output_type": "stream",
          "text": [
            "Test set score: 0.77\n",
            "Best parameters: {'n_neighbors': 10, 'weights': 'uniform'}\n",
            "Best cross-validation score: 0.77\n"
          ],
          "name": "stdout"
        }
      ]
    },
    {
      "cell_type": "code",
      "metadata": {
        "id": "GDxBWEui98Is",
        "colab_type": "code",
        "colab": {
          "base_uri": "https://localhost:8080/",
          "height": 279
        },
        "outputId": "438975f7-9b06-4d8b-89f4-cb20185b3966"
      },
      "source": [
        "plotGridSearchRuns('n_neighbors', 'weights')"
      ],
      "execution_count": 51,
      "outputs": [
        {
          "output_type": "display_data",
          "data": {
            "image/png": "[encoded data removed]",
            "text/plain": [
              "<Figure size 432x288 with 1 Axes>"
            ]
          },
          "metadata": {
            "tags": [],
            "needs_background": "light"
          }
        }
      ]
    },
    {
      "cell_type": "code",
      "metadata": {
        "id": "hiD4lEyO-HXn",
        "colab_type": "code",
        "colab": {
          "base_uri": "https://localhost:8080/",
          "height": 67
        },
        "outputId": "eca11b1d-02e7-4281-b4b7-f6e3ae024d06"
      },
      "source": [
        "param_grid = {'n_neighbors': [7, 10, 12, 14, 16],\n",
        "'weights': ['uniform', 'distance']}\n",
        "\n",
        "\n",
        "runGridSearch(KNeighborsClassifier(), param_grid)"
      ],
      "execution_count": 55,
      "outputs": [
        {
          "output_type": "stream",
          "text": [
            "Test set score: 0.78\n",
            "Best parameters: {'n_neighbors': 12, 'weights': 'uniform'}\n",
            "Best cross-validation score: 0.78\n"
          ],
          "name": "stdout"
        }
      ]
    },
    {
      "cell_type": "code",
      "metadata": {
        "id": "jp9o4Eg7-XJx",
        "colab_type": "code",
        "colab": {
          "base_uri": "https://localhost:8080/",
          "height": 279
        },
        "outputId": "911e011c-9213-4f49-f119-a400f405941a"
      },
      "source": [
        "plotGridSearchRuns('n_neighbors', 'weights')"
      ],
      "execution_count": 56,
      "outputs": [
        {
          "output_type": "display_data",
          "data": {
            "image/png": "[encoded data removed]",
            "text/plain": [
              "<Figure size 432x288 with 1 Axes>"
            ]
          },
          "metadata": {
            "tags": [],
            "needs_background": "light"
          }
        }
      ]
    },
    {
      "cell_type": "markdown",
      "metadata": {
        "id": "p008Q7_27QE1",
        "colab_type": "text"
      },
      "source": [
        "#### Naive Bayes Classifier"
      ]
    },
    {
      "cell_type": "markdown",
      "metadata": {
        "id": "-id70Lhs05WO",
        "colab_type": "text"
      },
      "source": [
        "#### Logistic Regression"
      ]
    },
    {
      "cell_type": "code",
      "metadata": {
        "id": "fXfe6RY4caku",
        "colab_type": "code",
        "colab": {
          "base_uri": "https://localhost:8080/",
          "height": 1000
        },
        "outputId": "5e89c248-295a-4114-b53c-296c5f4032bf"
      },
      "source": [
        "from sklearn.linear_model import LogisticRegression\n",
        "\n",
        "param_grid = {'C': [0.001, 0.01, 0.1, 1, 10, 100, 10000, 100000],\n",
        "'solver': ['newton-cg', 'lbfgs', 'liblinear', 'sag', 'saga']}\n",
        "\n",
        "runGridSearch(LogisticRegression(), param_grid)"
      ],
      "execution_count": 39,
      "outputs": [
        {
          "output_type": "stream",
          "text": [
            "/usr/local/lib/python3.6/dist-packages/sklearn/linear_model/_sag.py:330: ConvergenceWarning: The max_iter was reached which means the coef_ did not converge\n",
            "  \"the coef_ did not converge\", ConvergenceWarning)\n",
            "/usr/local/lib/python3.6/dist-packages/sklearn/linear_model/_sag.py:330: ConvergenceWarning: The max_iter was reached which means the coef_ did not converge\n",
            "  \"the coef_ did not converge\", ConvergenceWarning)\n",
            "/usr/local/lib/python3.6/dist-packages/sklearn/linear_model/_sag.py:330: ConvergenceWarning: The max_iter was reached which means the coef_ did not converge\n",
            "  \"the coef_ did not converge\", ConvergenceWarning)\n",
            "/usr/local/lib/python3.6/dist-packages/sklearn/linear_model/_sag.py:330: ConvergenceWarning: The max_iter was reached which means the coef_ did not converge\n",
            "  \"the coef_ did not converge\", ConvergenceWarning)\n",
            "/usr/local/lib/python3.6/dist-packages/sklearn/linear_model/_sag.py:330: ConvergenceWarning: The max_iter was reached which means the coef_ did not converge\n",
            "  \"the coef_ did not converge\", ConvergenceWarning)\n",
            "/usr/local/lib/python3.6/dist-packages/sklearn/linear_model/_sag.py:330: ConvergenceWarning: The max_iter was reached which means the coef_ did not converge\n",
            "  \"the coef_ did not converge\", ConvergenceWarning)\n",
            "/usr/local/lib/python3.6/dist-packages/sklearn/linear_model/_sag.py:330: ConvergenceWarning: The max_iter was reached which means the coef_ did not converge\n",
            "  \"the coef_ did not converge\", ConvergenceWarning)\n",
            "/usr/local/lib/python3.6/dist-packages/sklearn/linear_model/_sag.py:330: ConvergenceWarning: The max_iter was reached which means the coef_ did not converge\n",
            "  \"the coef_ did not converge\", ConvergenceWarning)\n",
            "/usr/local/lib/python3.6/dist-packages/sklearn/linear_model/_sag.py:330: ConvergenceWarning: The max_iter was reached which means the coef_ did not converge\n",
            "  \"the coef_ did not converge\", ConvergenceWarning)\n",
            "/usr/local/lib/python3.6/dist-packages/sklearn/linear_model/_sag.py:330: ConvergenceWarning: The max_iter was reached which means the coef_ did not converge\n",
            "  \"the coef_ did not converge\", ConvergenceWarning)\n",
            "/usr/local/lib/python3.6/dist-packages/sklearn/linear_model/_sag.py:330: ConvergenceWarning: The max_iter was reached which means the coef_ did not converge\n",
            "  \"the coef_ did not converge\", ConvergenceWarning)\n",
            "/usr/local/lib/python3.6/dist-packages/sklearn/linear_model/_sag.py:330: ConvergenceWarning: The max_iter was reached which means the coef_ did not converge\n",
            "  \"the coef_ did not converge\", ConvergenceWarning)\n",
            "/usr/local/lib/python3.6/dist-packages/sklearn/linear_model/_sag.py:330: ConvergenceWarning: The max_iter was reached which means the coef_ did not converge\n",
            "  \"the coef_ did not converge\", ConvergenceWarning)\n",
            "/usr/local/lib/python3.6/dist-packages/sklearn/linear_model/_sag.py:330: ConvergenceWarning: The max_iter was reached which means the coef_ did not converge\n",
            "  \"the coef_ did not converge\", ConvergenceWarning)\n",
            "/usr/local/lib/python3.6/dist-packages/sklearn/linear_model/_sag.py:330: ConvergenceWarning: The max_iter was reached which means the coef_ did not converge\n",
            "  \"the coef_ did not converge\", ConvergenceWarning)\n",
            "/usr/local/lib/python3.6/dist-packages/sklearn/linear_model/_sag.py:330: ConvergenceWarning: The max_iter was reached which means the coef_ did not converge\n",
            "  \"the coef_ did not converge\", ConvergenceWarning)\n",
            "/usr/local/lib/python3.6/dist-packages/sklearn/linear_model/_sag.py:330: ConvergenceWarning: The max_iter was reached which means the coef_ did not converge\n",
            "  \"the coef_ did not converge\", ConvergenceWarning)\n",
            "/usr/local/lib/python3.6/dist-packages/sklearn/linear_model/_sag.py:330: ConvergenceWarning: The max_iter was reached which means the coef_ did not converge\n",
            "  \"the coef_ did not converge\", ConvergenceWarning)\n",
            "/usr/local/lib/python3.6/dist-packages/sklearn/linear_model/_sag.py:330: ConvergenceWarning: The max_iter was reached which means the coef_ did not converge\n",
            "  \"the coef_ did not converge\", ConvergenceWarning)\n",
            "/usr/local/lib/python3.6/dist-packages/sklearn/linear_model/_sag.py:330: ConvergenceWarning: The max_iter was reached which means the coef_ did not converge\n",
            "  \"the coef_ did not converge\", ConvergenceWarning)\n",
            "/usr/local/lib/python3.6/dist-packages/sklearn/linear_model/_sag.py:330: ConvergenceWarning: The max_iter was reached which means the coef_ did not converge\n",
            "  \"the coef_ did not converge\", ConvergenceWarning)\n",
            "/usr/local/lib/python3.6/dist-packages/sklearn/linear_model/_sag.py:330: ConvergenceWarning: The max_iter was reached which means the coef_ did not converge\n",
            "  \"the coef_ did not converge\", ConvergenceWarning)\n",
            "/usr/local/lib/python3.6/dist-packages/sklearn/linear_model/_sag.py:330: ConvergenceWarning: The max_iter was reached which means the coef_ did not converge\n",
            "  \"the coef_ did not converge\", ConvergenceWarning)\n",
            "/usr/local/lib/python3.6/dist-packages/sklearn/linear_model/_sag.py:330: ConvergenceWarning: The max_iter was reached which means the coef_ did not converge\n",
            "  \"the coef_ did not converge\", ConvergenceWarning)\n",
            "/usr/local/lib/python3.6/dist-packages/sklearn/linear_model/_sag.py:330: ConvergenceWarning: The max_iter was reached which means the coef_ did not converge\n",
            "  \"the coef_ did not converge\", ConvergenceWarning)\n",
            "/usr/local/lib/python3.6/dist-packages/sklearn/linear_model/_sag.py:330: ConvergenceWarning: The max_iter was reached which means the coef_ did not converge\n",
            "  \"the coef_ did not converge\", ConvergenceWarning)\n",
            "/usr/local/lib/python3.6/dist-packages/sklearn/linear_model/_sag.py:330: ConvergenceWarning: The max_iter was reached which means the coef_ did not converge\n",
            "  \"the coef_ did not converge\", ConvergenceWarning)\n",
            "/usr/local/lib/python3.6/dist-packages/sklearn/linear_model/_sag.py:330: ConvergenceWarning: The max_iter was reached which means the coef_ did not converge\n",
            "  \"the coef_ did not converge\", ConvergenceWarning)\n",
            "/usr/local/lib/python3.6/dist-packages/sklearn/linear_model/_sag.py:330: ConvergenceWarning: The max_iter was reached which means the coef_ did not converge\n",
            "  \"the coef_ did not converge\", ConvergenceWarning)\n",
            "/usr/local/lib/python3.6/dist-packages/sklearn/linear_model/_sag.py:330: ConvergenceWarning: The max_iter was reached which means the coef_ did not converge\n",
            "  \"the coef_ did not converge\", ConvergenceWarning)\n",
            "/usr/local/lib/python3.6/dist-packages/sklearn/linear_model/_sag.py:330: ConvergenceWarning: The max_iter was reached which means the coef_ did not converge\n",
            "  \"the coef_ did not converge\", ConvergenceWarning)\n",
            "/usr/local/lib/python3.6/dist-packages/sklearn/linear_model/_sag.py:330: ConvergenceWarning: The max_iter was reached which means the coef_ did not converge\n",
            "  \"the coef_ did not converge\", ConvergenceWarning)\n",
            "/usr/local/lib/python3.6/dist-packages/sklearn/linear_model/_sag.py:330: ConvergenceWarning: The max_iter was reached which means the coef_ did not converge\n",
            "  \"the coef_ did not converge\", ConvergenceWarning)\n",
            "/usr/local/lib/python3.6/dist-packages/sklearn/linear_model/_sag.py:330: ConvergenceWarning: The max_iter was reached which means the coef_ did not converge\n",
            "  \"the coef_ did not converge\", ConvergenceWarning)\n",
            "/usr/local/lib/python3.6/dist-packages/sklearn/linear_model/_sag.py:330: ConvergenceWarning: The max_iter was reached which means the coef_ did not converge\n",
            "  \"the coef_ did not converge\", ConvergenceWarning)\n",
            "/usr/local/lib/python3.6/dist-packages/sklearn/linear_model/_sag.py:330: ConvergenceWarning: The max_iter was reached which means the coef_ did not converge\n",
            "  \"the coef_ did not converge\", ConvergenceWarning)\n",
            "/usr/local/lib/python3.6/dist-packages/sklearn/linear_model/_sag.py:330: ConvergenceWarning: The max_iter was reached which means the coef_ did not converge\n",
            "  \"the coef_ did not converge\", ConvergenceWarning)\n",
            "/usr/local/lib/python3.6/dist-packages/sklearn/linear_model/_sag.py:330: ConvergenceWarning: The max_iter was reached which means the coef_ did not converge\n",
            "  \"the coef_ did not converge\", ConvergenceWarning)\n",
            "/usr/local/lib/python3.6/dist-packages/sklearn/linear_model/_sag.py:330: ConvergenceWarning: The max_iter was reached which means the coef_ did not converge\n",
            "  \"the coef_ did not converge\", ConvergenceWarning)\n",
            "/usr/local/lib/python3.6/dist-packages/sklearn/linear_model/_sag.py:330: ConvergenceWarning: The max_iter was reached which means the coef_ did not converge\n",
            "  \"the coef_ did not converge\", ConvergenceWarning)\n"
          ],
          "name": "stderr"
        },
        {
          "output_type": "stream",
          "text": [
            "Test set score: 0.81\n",
            "Best parameters: {'C': 100, 'solver': 'saga'}\n",
            "Best cross-validation score: 0.81\n"
          ],
          "name": "stdout"
        },
        {
          "output_type": "stream",
          "text": [
            "/usr/local/lib/python3.6/dist-packages/sklearn/linear_model/_sag.py:330: ConvergenceWarning: The max_iter was reached which means the coef_ did not converge\n",
            "  \"the coef_ did not converge\", ConvergenceWarning)\n"
          ],
          "name": "stderr"
        }
      ]
    },
    {
      "cell_type": "code",
      "metadata": {
        "id": "lDOsaCUkzna9",
        "colab_type": "code",
        "colab": {
          "base_uri": "https://localhost:8080/",
          "height": 279
        },
        "outputId": "4dddb98c-308e-4721-f455-b99c4444f579"
      },
      "source": [
        "plotGridSearchRuns('C', 'solver')"
      ],
      "execution_count": 40,
      "outputs": [
        {
          "output_type": "display_data",
          "data": {
            "image/png": "[encoded data removed]",
            "text/plain": [
              "<Figure size 432x288 with 1 Axes>"
            ]
          },
          "metadata": {
            "tags": [],
            "needs_background": "light"
          }
        }
      ]
    },
    {
      "cell_type": "code",
      "metadata": {
        "id": "CKlUbQTR3LAD",
        "colab_type": "code",
        "colab": {
          "base_uri": "https://localhost:8080/",
          "height": 67
        },
        "outputId": "4107b04f-9bc4-401f-a6f5-c422cae4f12b"
      },
      "source": [
        "param_grid = {'C': [0.01, 0.1, 1, 10, 100, 10000, 1000000, 10000000],\n",
        "'solver': ['newton-cg', 'lbfgs', 'liblinear', 'sag', 'saga'],\n",
        "'max_iter': [40000]} # We are setting `max_iter` to avoid \"convergence warning\"\n",
        "\n",
        "runGridSearch(LogisticRegression(), param_grid)"
      ],
      "execution_count": 45,
      "outputs": [
        {
          "output_type": "stream",
          "text": [
            "Test set score: 0.81\n",
            "Best parameters: {'C': 10, 'max_iter': 40000, 'solver': 'sag'}\n",
            "Best cross-validation score: 0.80\n"
          ],
          "name": "stdout"
        }
      ]
    },
    {
      "cell_type": "code",
      "metadata": {
        "id": "vVT-grbs3fE_",
        "colab_type": "code",
        "colab": {
          "base_uri": "https://localhost:8080/",
          "height": 279
        },
        "outputId": "69643dab-75ea-4a07-8a62-16ff158801b3"
      },
      "source": [
        "plotGridSearchRuns('C', 'solver')"
      ],
      "execution_count": 46,
      "outputs": [
        {
          "output_type": "display_data",
          "data": {
            "image/png": "[encoded data removed]",
            "text/plain": [
              "<Figure size 432x288 with 1 Axes>"
            ]
          },
          "metadata": {
            "tags": [],
            "needs_background": "light"
          }
        }
      ]
    },
    {
      "cell_type": "markdown",
      "metadata": {
        "id": "aO9g7KAN_pxL",
        "colab_type": "text"
      },
      "source": [
        "#### Linear Support Vector Machines (Linear SVC)"
      ]
    },
    {
      "cell_type": "code",
      "metadata": {
        "id": "GiYQ0IAP_1ni",
        "colab_type": "code",
        "colab": {}
      },
      "source": [
        ""
      ],
      "execution_count": 0,
      "outputs": []
    },
    {
      "cell_type": "markdown",
      "metadata": {
        "id": "dcvOtxtT46e0",
        "colab_type": "text"
      },
      "source": [
        "#### Random Forest Classifier"
      ]
    },
    {
      "cell_type": "code",
      "metadata": {
        "id": "1Vtzqn2__HHx",
        "colab_type": "code",
        "colab": {}
      },
      "source": [
        ""
      ],
      "execution_count": 0,
      "outputs": []
    },
    {
      "cell_type": "markdown",
      "metadata": {
        "id": "0_D-p18hp4pX",
        "colab_type": "text"
      },
      "source": [
        "#### Support Vector Classifier (SVC)"
      ]
    },
    {
      "cell_type": "code",
      "metadata": {
        "id": "dLhJza93p1oj",
        "colab_type": "code",
        "colab": {
          "base_uri": "https://localhost:8080/",
          "height": 0
        },
        "outputId": "f035cbf9-0099-4379-f6ec-9bbc9f65458d"
      },
      "source": [
        "from sklearn.svm import SVC\n",
        "\n",
        "param_grid = {'C': [0.001, 0.01, 0.1, 1, 10, 100],\n",
        "'gamma': [0.001, 0.01, 0.1, 1, 10, 100]}\n",
        "\n",
        "\n",
        "runGridSearch(SVC(), param_grid)"
      ],
      "execution_count": 14,
      "outputs": [
        {
          "output_type": "stream",
          "text": [
            "Test set score: 0.81\n"
          ],
          "name": "stdout"
        }
      ]
    },
    {
      "cell_type": "code",
      "metadata": {
        "id": "DbU6wkUTr9xN",
        "colab_type": "code",
        "colab": {
          "base_uri": "https://localhost:8080/",
          "height": 0
        },
        "outputId": "485d0c75-1e2f-4f4c-f575-960b7e5527b9"
      },
      "source": [
        "plotGridSearchRuns('C', 'gamma')"
      ],
      "execution_count": 24,
      "outputs": [
        {
          "output_type": "display_data",
          "data": {
            "image/png": "[encoded data removed]",
            "text/plain": [
              "<Figure size 432x288 with 1 Axes>"
            ]
          },
          "metadata": {
            "tags": [],
            "needs_background": "light"
          }
        }
      ]
    },
    {
      "cell_type": "code",
      "metadata": {
        "id": "oM-ZJxgnul2o",
        "colab_type": "code",
        "colab": {
          "base_uri": "https://localhost:8080/",
          "height": 0
        },
        "outputId": "cf01bc57-5eea-42d3-ed04-47e49944c90e"
      },
      "source": [
        "param_grid = {'C': [0.1, 1, 10, 100, 1000, 10000],\n",
        "'gamma': [1e-06, 1e-05, 1e-04, 0.001, 0.01, 0.1]}\n",
        "\n",
        "runGridSearch(SVC(), param_grid)"
      ],
      "execution_count": 30,
      "outputs": [
        {
          "output_type": "stream",
          "text": [
            "Test set score: 0.80\n",
            "Best parameters: {'C': 1000, 'gamma': 1e-05}\n",
            "Best cross-validation score: 0.80\n"
          ],
          "name": "stdout"
        }
      ]
    },
    {
      "cell_type": "code",
      "metadata": {
        "id": "QMSHLOd5vQ84",
        "colab_type": "code",
        "colab": {
          "base_uri": "https://localhost:8080/",
          "height": 0
        },
        "outputId": "1fd77c38-4241-40a4-a4c1-72a161e5b183"
      },
      "source": [
        "plotGridSearchRuns('C', 'gamma')"
      ],
      "execution_count": 38,
      "outputs": [
        {
          "output_type": "display_data",
          "data": {
            "image/png": "[encoded data removed]",
            "text/plain": [
              "<Figure size 432x288 with 1 Axes>"
            ]
          },
          "metadata": {
            "tags": [],
            "needs_background": "light"
          }
        }
      ]
    },
    {
      "cell_type": "markdown",
      "metadata": {
        "id": "1T-qkZrHoY6H",
        "colab_type": "text"
      },
      "source": [
        "### Deep Learning model"
      ]
    },
    {
      "cell_type": "markdown",
      "metadata": {
        "id": "imBktumO801U",
        "colab_type": "text"
      },
      "source": [
        "#### Multi-Layer Perceptron (MLP)"
      ]
    },
    {
      "cell_type": "code",
      "metadata": {
        "id": "6PO2hMIbcakx",
        "colab_type": "code",
        "colab": {},
        "outputId": "b257d51a-e3b7-4917-cdf2-fee4a48c4419"
      },
      "source": [
        "from keras.models import Sequential\n",
        "from keras.layers import Dense\n",
        "from keras.layers import BatchNormalization\n",
        "from keras import optimizers\n",
        "\n",
        "# define the keras model\n",
        "model = Sequential()\n",
        "model.add(Dense(5, input_dim=26, activation='relu'))\n",
        "model.add(Dense(5, activation='relu'))\n",
        "model.add(Dense(1, activation='sigmoid'))\n",
        "\n",
        "Adam = optimizers.Adam(learning_rate=0.003)\n",
        "\n",
        "# Compile the model\n",
        "model.compile(loss='binary_crossentropy', optimizer=Adam, metrics=['accuracy'])\n"
      ],
      "execution_count": 0,
      "outputs": [
        {
          "output_type": "stream",
          "text": [
            "Using TensorFlow backend.\n"
          ],
          "name": "stderr"
        },
        {
          "output_type": "stream",
          "text": [
            "WARNING:tensorflow:From C:\\Users\\Edo\\Anaconda3\\lib\\site-packages\\tensorflow_core\\python\\ops\\resource_variable_ops.py:1630: calling BaseResourceVariable.__init__ (from tensorflow.python.ops.resource_variable_ops) with constraint is deprecated and will be removed in a future version.\n",
            "Instructions for updating:\n",
            "If using Keras pass *_constraint arguments to layers.\n",
            "WARNING:tensorflow:From C:\\Users\\Edo\\Anaconda3\\lib\\site-packages\\tensorflow_core\\python\\ops\\nn_impl.py:183: where (from tensorflow.python.ops.array_ops) is deprecated and will be removed in a future version.\n",
            "Instructions for updating:\n",
            "Use tf.where in 2.0, which has the same broadcast rule as np.where\n"
          ],
          "name": "stdout"
        }
      ]
    },
    {
      "cell_type": "code",
      "metadata": {
        "id": "X7GTA-2hcak1",
        "colab_type": "code",
        "colab": {},
        "outputId": "7247c39b-0c62-4fa7-8dff-bd169d1bacf4"
      },
      "source": [
        "# fit the keras model on the dataset\n",
        "model.fit(X_train, y_train, epochs=200, batch_size=10)"
      ],
      "execution_count": 0,
      "outputs": [
        {
          "output_type": "stream",
          "text": [
            "WARNING:tensorflow:From C:\\Users\\Edo\\Anaconda3\\lib\\site-packages\\keras\\backend\\tensorflow_backend.py:422: The name tf.global_variables is deprecated. Please use tf.compat.v1.global_variables instead.\n",
            "\n",
            "Epoch 1/200\n",
            "5625/5625 [==============================] - 1s 171us/step - loss: 0.4970 - accuracy: 0.7568\n",
            "Epoch 2/200\n",
            "5625/5625 [==============================] - 1s 160us/step - loss: 0.4263 - accuracy: 0.7964\n",
            "Epoch 3/200\n",
            "5625/5625 [==============================] - 1s 134us/step - loss: 0.4211 - accuracy: 0.7963\n",
            "Epoch 4/200\n",
            "5625/5625 [==============================] - 1s 168us/step - loss: 0.4189 - accuracy: 0.8027\n",
            "Epoch 5/200\n",
            "5625/5625 [==============================] - 1s 217us/step - loss: 0.4166 - accuracy: 0.7977\n",
            "Epoch 6/200\n",
            "5625/5625 [==============================] - 2s 271us/step - loss: 0.4143 - accuracy: 0.8036\n",
            "Epoch 7/200\n",
            "5625/5625 [==============================] - 2s 272us/step - loss: 0.4136 - accuracy: 0.8046\n",
            "Epoch 8/200\n",
            "5625/5625 [==============================] - 1s 240us/step - loss: 0.4129 - accuracy: 0.8046\n",
            "Epoch 9/200\n",
            "5625/5625 [==============================] - 2s 269us/step - loss: 0.4126 - accuracy: 0.8030\n",
            "Epoch 10/200\n",
            "5625/5625 [==============================] - 1s 231us/step - loss: 0.4127 - accuracy: 0.8016\n",
            "Epoch 11/200\n",
            "5625/5625 [==============================] - 1s 250us/step - loss: 0.4138 - accuracy: 0.8009\n",
            "Epoch 12/200\n",
            "5625/5625 [==============================] - 1s 261us/step - loss: 0.4120 - accuracy: 0.8048\n",
            "Epoch 13/200\n",
            "5625/5625 [==============================] - 1s 260us/step - loss: 0.4126 - accuracy: 0.8021\n",
            "Epoch 14/200\n",
            "5625/5625 [==============================] - 1s 242us/step - loss: 0.4104 - accuracy: 0.8068\n",
            "Epoch 15/200\n",
            "5625/5625 [==============================] - 1s 249us/step - loss: 0.4112 - accuracy: 0.8032\n",
            "Epoch 16/200\n",
            "5625/5625 [==============================] - 1s 248us/step - loss: 0.4108 - accuracy: 0.8062\n",
            "Epoch 17/200\n",
            "5625/5625 [==============================] - 1s 241us/step - loss: 0.4107 - accuracy: 0.8073\n",
            "Epoch 18/200\n",
            "5625/5625 [==============================] - 1s 252us/step - loss: 0.4112 - accuracy: 0.8012\n",
            "Epoch 19/200\n",
            "5625/5625 [==============================] - 1s 237us/step - loss: 0.4107 - accuracy: 0.8057\n",
            "Epoch 20/200\n",
            "5625/5625 [==============================] - 1s 253us/step - loss: 0.4101 - accuracy: 0.8055\n",
            "Epoch 21/200\n",
            "5625/5625 [==============================] - 1s 238us/step - loss: 0.4098 - accuracy: 0.8050\n",
            "Epoch 22/200\n",
            "5625/5625 [==============================] - 1s 259us/step - loss: 0.4090 - accuracy: 0.8087\n",
            "Epoch 23/200\n",
            "5625/5625 [==============================] - 1s 247us/step - loss: 0.4089 - accuracy: 0.8098\n",
            "Epoch 24/200\n",
            "5625/5625 [==============================] - 2s 272us/step - loss: 0.4090 - accuracy: 0.8080\n",
            "Epoch 25/200\n",
            "5625/5625 [==============================] - 1s 254us/step - loss: 0.4082 - accuracy: 0.8092\n",
            "Epoch 26/200\n",
            "5625/5625 [==============================] - 2s 284us/step - loss: 0.4076 - accuracy: 0.8032\n",
            "Epoch 27/200\n",
            "5625/5625 [==============================] - 2s 276us/step - loss: 0.4090 - accuracy: 0.8094\n",
            "Epoch 28/200\n",
            "5625/5625 [==============================] - 1s 223us/step - loss: 0.4081 - accuracy: 0.8069\n",
            "Epoch 29/200\n",
            "5625/5625 [==============================] - 2s 288us/step - loss: 0.4092 - accuracy: 0.8069\n",
            "Epoch 30/200\n",
            "5625/5625 [==============================] - 2s 329us/step - loss: 0.4075 - accuracy: 0.8076\n",
            "Epoch 31/200\n",
            "5625/5625 [==============================] - 2s 321us/step - loss: 0.4080 - accuracy: 0.8082\n",
            "Epoch 32/200\n",
            "5625/5625 [==============================] - 2s 362us/step - loss: 0.4071 - accuracy: 0.8064\n",
            "Epoch 33/200\n",
            "5625/5625 [==============================] - 2s 317us/step - loss: 0.4079 - accuracy: 0.8078\n",
            "Epoch 34/200\n",
            "5625/5625 [==============================] - 2s 425us/step - loss: 0.4064 - accuracy: 0.8076\n",
            "Epoch 35/200\n",
            "5625/5625 [==============================] - 2s 314us/step - loss: 0.4069 - accuracy: 0.8092\n",
            "Epoch 36/200\n",
            "5625/5625 [==============================] - 2s 279us/step - loss: 0.4066 - accuracy: 0.8057\n",
            "Epoch 37/200\n",
            "5625/5625 [==============================] - 2s 296us/step - loss: 0.4062 - accuracy: 0.8075\n",
            "Epoch 38/200\n",
            "5625/5625 [==============================] - 2s 271us/step - loss: 0.4061 - accuracy: 0.8092\n",
            "Epoch 39/200\n",
            "5625/5625 [==============================] - 2s 282us/step - loss: 0.4064 - accuracy: 0.8085\n",
            "Epoch 40/200\n",
            "5625/5625 [==============================] - 1s 264us/step - loss: 0.4064 - accuracy: 0.8069\n",
            "Epoch 41/200\n",
            "5625/5625 [==============================] - 1s 250us/step - loss: 0.4058 - accuracy: 0.8075\n",
            "Epoch 42/200\n",
            "5625/5625 [==============================] - 1s 263us/step - loss: 0.4076 - accuracy: 0.8057\n",
            "Epoch 43/200\n",
            "5625/5625 [==============================] - 1s 244us/step - loss: 0.4062 - accuracy: 0.8094\n",
            "Epoch 44/200\n",
            "5625/5625 [==============================] - 1s 245us/step - loss: 0.4067 - accuracy: 0.8059\n",
            "Epoch 45/200\n",
            "5625/5625 [==============================] - 1s 228us/step - loss: 0.4071 - accuracy: 0.8073\n",
            "Epoch 46/200\n",
            "5625/5625 [==============================] - 1s 232us/step - loss: 0.4068 - accuracy: 0.8087\n",
            "Epoch 47/200\n",
            "5625/5625 [==============================] - 1s 252us/step - loss: 0.4067 - accuracy: 0.8076\n",
            "Epoch 48/200\n",
            "5625/5625 [==============================] - 1s 259us/step - loss: 0.4060 - accuracy: 0.8082\n",
            "Epoch 49/200\n",
            "5625/5625 [==============================] - 1s 257us/step - loss: 0.4059 - accuracy: 0.8110\n",
            "Epoch 50/200\n",
            "5625/5625 [==============================] - 1s 247us/step - loss: 0.4060 - accuracy: 0.80550s - loss: 0.4077 - accu\n",
            "Epoch 51/200\n",
            "5625/5625 [==============================] - 1s 235us/step - loss: 0.4055 - accuracy: 0.8052\n",
            "Epoch 52/200\n",
            "5625/5625 [==============================] - 1s 210us/step - loss: 0.4052 - accuracy: 0.8089\n",
            "Epoch 53/200\n",
            "5625/5625 [==============================] - 1s 214us/step - loss: 0.4067 - accuracy: 0.8100\n",
            "Epoch 54/200\n",
            "5625/5625 [==============================] - 1s 237us/step - loss: 0.4061 - accuracy: 0.8059\n",
            "Epoch 55/200\n",
            "5625/5625 [==============================] - 1s 246us/step - loss: 0.4051 - accuracy: 0.8110\n",
            "Epoch 56/200\n",
            "5625/5625 [==============================] - 1s 223us/step - loss: 0.4043 - accuracy: 0.8059\n",
            "Epoch 57/200\n",
            "5625/5625 [==============================] - 1s 208us/step - loss: 0.4050 - accuracy: 0.8064\n",
            "Epoch 58/200\n",
            "5625/5625 [==============================] - 1s 228us/step - loss: 0.4036 - accuracy: 0.8123\n",
            "Epoch 59/200\n",
            "5625/5625 [==============================] - 1s 223us/step - loss: 0.4049 - accuracy: 0.8112\n",
            "Epoch 60/200\n",
            "5625/5625 [==============================] - 1s 208us/step - loss: 0.4057 - accuracy: 0.8101\n",
            "Epoch 61/200\n",
            "5625/5625 [==============================] - 1s 222us/step - loss: 0.4040 - accuracy: 0.8108\n",
            "Epoch 62/200\n",
            "5625/5625 [==============================] - 1s 230us/step - loss: 0.4045 - accuracy: 0.8101\n",
            "Epoch 63/200\n",
            "5625/5625 [==============================] - 1s 196us/step - loss: 0.4043 - accuracy: 0.8089\n",
            "Epoch 64/200\n",
            "5625/5625 [==============================] - 1s 195us/step - loss: 0.4039 - accuracy: 0.8082\n",
            "Epoch 65/200\n",
            "5625/5625 [==============================] - 1s 191us/step - loss: 0.4050 - accuracy: 0.8107\n",
            "Epoch 66/200\n",
            "5625/5625 [==============================] - 1s 230us/step - loss: 0.4046 - accuracy: 0.8094\n",
            "Epoch 67/200\n",
            "5625/5625 [==============================] - 1s 244us/step - loss: 0.4030 - accuracy: 0.8119\n",
            "Epoch 68/200\n",
            "5625/5625 [==============================] - 1s 211us/step - loss: 0.4038 - accuracy: 0.8112\n",
            "Epoch 69/200\n",
            "5625/5625 [==============================] - 1s 194us/step - loss: 0.4044 - accuracy: 0.8078\n",
            "Epoch 70/200\n",
            "5625/5625 [==============================] - 1s 252us/step - loss: 0.4045 - accuracy: 0.8069\n",
            "Epoch 71/200\n",
            "5625/5625 [==============================] - 1s 249us/step - loss: 0.4040 - accuracy: 0.8107\n",
            "Epoch 72/200\n",
            "5625/5625 [==============================] - 1s 251us/step - loss: 0.4040 - accuracy: 0.8108\n",
            "Epoch 73/200\n",
            "5625/5625 [==============================] - 2s 267us/step - loss: 0.4036 - accuracy: 0.8101\n",
            "Epoch 74/200\n",
            "5625/5625 [==============================] - 1s 262us/step - loss: 0.4042 - accuracy: 0.8114\n",
            "Epoch 75/200\n",
            "5625/5625 [==============================] - 1s 254us/step - loss: 0.4029 - accuracy: 0.8101\n",
            "Epoch 76/200\n"
          ],
          "name": "stdout"
        },
        {
          "output_type": "stream",
          "text": [
            "5625/5625 [==============================] - 1s 244us/step - loss: 0.4027 - accuracy: 0.8112\n",
            "Epoch 77/200\n",
            "5625/5625 [==============================] - 1s 225us/step - loss: 0.4036 - accuracy: 0.8091\n",
            "Epoch 78/200\n",
            "5625/5625 [==============================] - 1s 231us/step - loss: 0.4035 - accuracy: 0.8091\n",
            "Epoch 79/200\n",
            "5625/5625 [==============================] - 2s 281us/step - loss: 0.4036 - accuracy: 0.8096\n",
            "Epoch 80/200\n",
            "5625/5625 [==============================] - 1s 263us/step - loss: 0.4030 - accuracy: 0.8098\n",
            "Epoch 81/200\n",
            "5625/5625 [==============================] - 1s 238us/step - loss: 0.4022 - accuracy: 0.8105\n",
            "Epoch 82/200\n",
            "5625/5625 [==============================] - 1s 231us/step - loss: 0.4034 - accuracy: 0.8105\n",
            "Epoch 83/200\n",
            "5625/5625 [==============================] - 1s 248us/step - loss: 0.4027 - accuracy: 0.8119\n",
            "Epoch 84/200\n",
            "5625/5625 [==============================] - 1s 232us/step - loss: 0.4037 - accuracy: 0.8092\n",
            "Epoch 85/200\n",
            "5625/5625 [==============================] - 1s 242us/step - loss: 0.4024 - accuracy: 0.8139\n",
            "Epoch 86/200\n",
            "5625/5625 [==============================] - 1s 230us/step - loss: 0.4030 - accuracy: 0.8085\n",
            "Epoch 87/200\n",
            "5625/5625 [==============================] - 1s 247us/step - loss: 0.4017 - accuracy: 0.8108\n",
            "Epoch 88/200\n",
            "5625/5625 [==============================] - 1s 235us/step - loss: 0.4030 - accuracy: 0.8105\n",
            "Epoch 89/200\n",
            "5625/5625 [==============================] - 1s 238us/step - loss: 0.4035 - accuracy: 0.8098\n",
            "Epoch 90/200\n",
            "5625/5625 [==============================] - 2s 276us/step - loss: 0.4020 - accuracy: 0.8108\n",
            "Epoch 91/200\n",
            "5625/5625 [==============================] - 2s 293us/step - loss: 0.4026 - accuracy: 0.8132\n",
            "Epoch 92/200\n",
            "5625/5625 [==============================] - 2s 271us/step - loss: 0.4034 - accuracy: 0.8126\n",
            "Epoch 93/200\n",
            "5625/5625 [==============================] - 1s 235us/step - loss: 0.4027 - accuracy: 0.8137\n",
            "Epoch 94/200\n",
            "5625/5625 [==============================] - 1s 266us/step - loss: 0.4022 - accuracy: 0.8133\n",
            "Epoch 95/200\n",
            "5625/5625 [==============================] - 1s 258us/step - loss: 0.4024 - accuracy: 0.8110\n",
            "Epoch 96/200\n",
            "5625/5625 [==============================] - 1s 263us/step - loss: 0.4019 - accuracy: 0.8112\n",
            "Epoch 97/200\n",
            "5625/5625 [==============================] - 1s 248us/step - loss: 0.4023 - accuracy: 0.8124\n",
            "Epoch 98/200\n",
            "5625/5625 [==============================] - 1s 259us/step - loss: 0.4017 - accuracy: 0.8096\n",
            "Epoch 99/200\n",
            "5625/5625 [==============================] - 1s 254us/step - loss: 0.4018 - accuracy: 0.8105\n",
            "Epoch 100/200\n",
            "5625/5625 [==============================] - 2s 308us/step - loss: 0.4014 - accuracy: 0.8126\n",
            "Epoch 101/200\n",
            "5625/5625 [==============================] - 2s 277us/step - loss: 0.4019 - accuracy: 0.8130\n",
            "Epoch 102/200\n",
            "5625/5625 [==============================] - 1s 264us/step - loss: 0.4022 - accuracy: 0.8119\n",
            "Epoch 103/200\n",
            "5625/5625 [==============================] - 1s 246us/step - loss: 0.4008 - accuracy: 0.8116\n",
            "Epoch 104/200\n",
            "5625/5625 [==============================] - 2s 291us/step - loss: 0.4009 - accuracy: 0.8155\n",
            "Epoch 105/200\n",
            "5625/5625 [==============================] - 1s 255us/step - loss: 0.4012 - accuracy: 0.8123\n",
            "Epoch 106/200\n",
            "5625/5625 [==============================] - 1s 265us/step - loss: 0.4018 - accuracy: 0.8126\n",
            "Epoch 107/200\n",
            "5625/5625 [==============================] - 2s 280us/step - loss: 0.4009 - accuracy: 0.8124\n",
            "Epoch 108/200\n",
            "5625/5625 [==============================] - 1s 253us/step - loss: 0.4006 - accuracy: 0.8116\n",
            "Epoch 109/200\n",
            "5625/5625 [==============================] - 1s 243us/step - loss: 0.4004 - accuracy: 0.8130\n",
            "Epoch 110/200\n",
            "5625/5625 [==============================] - 1s 265us/step - loss: 0.4008 - accuracy: 0.8132\n",
            "Epoch 111/200\n",
            "5625/5625 [==============================] - 1s 265us/step - loss: 0.4002 - accuracy: 0.8151\n",
            "Epoch 112/200\n",
            "5625/5625 [==============================] - 2s 293us/step - loss: 0.3998 - accuracy: 0.8114\n",
            "Epoch 113/200\n",
            "5625/5625 [==============================] - 2s 276us/step - loss: 0.4003 - accuracy: 0.8108\n",
            "Epoch 114/200\n",
            "5625/5625 [==============================] - 1s 246us/step - loss: 0.4006 - accuracy: 0.8135\n",
            "Epoch 115/200\n",
            "5625/5625 [==============================] - 1s 247us/step - loss: 0.3998 - accuracy: 0.8142\n",
            "Epoch 116/200\n",
            "5625/5625 [==============================] - 1s 248us/step - loss: 0.4009 - accuracy: 0.81210s - loss: 0.4051 - \n",
            "Epoch 117/200\n",
            "5625/5625 [==============================] - 1s 248us/step - loss: 0.4003 - accuracy: 0.8133\n",
            "Epoch 118/200\n",
            "5625/5625 [==============================] - 1s 249us/step - loss: 0.3998 - accuracy: 0.8126\n",
            "Epoch 119/200\n",
            "5625/5625 [==============================] - 1s 249us/step - loss: 0.4000 - accuracy: 0.8121\n",
            "Epoch 120/200\n",
            "5625/5625 [==============================] - 1s 259us/step - loss: 0.4009 - accuracy: 0.8135\n",
            "Epoch 121/200\n",
            "5625/5625 [==============================] - 1s 265us/step - loss: 0.4000 - accuracy: 0.8098\n",
            "Epoch 122/200\n",
            "5625/5625 [==============================] - 1s 264us/step - loss: 0.4000 - accuracy: 0.8123\n",
            "Epoch 123/200\n",
            "5625/5625 [==============================] - 2s 292us/step - loss: 0.3995 - accuracy: 0.8137\n",
            "Epoch 124/200\n",
            "5625/5625 [==============================] - 2s 312us/step - loss: 0.3992 - accuracy: 0.8174\n",
            "Epoch 125/200\n",
            "5625/5625 [==============================] - 1s 243us/step - loss: 0.3990 - accuracy: 0.8140\n",
            "Epoch 126/200\n",
            "5625/5625 [==============================] - 1s 239us/step - loss: 0.4004 - accuracy: 0.8126\n",
            "Epoch 127/200\n",
            "5625/5625 [==============================] - 1s 218us/step - loss: 0.3993 - accuracy: 0.8153\n",
            "Epoch 128/200\n",
            "5625/5625 [==============================] - 1s 190us/step - loss: 0.3991 - accuracy: 0.8132\n",
            "Epoch 129/200\n",
            "5625/5625 [==============================] - 1s 170us/step - loss: 0.3990 - accuracy: 0.8149\n",
            "Epoch 130/200\n",
            "5625/5625 [==============================] - 1s 217us/step - loss: 0.3996 - accuracy: 0.8155\n",
            "Epoch 131/200\n",
            "5625/5625 [==============================] - 1s 207us/step - loss: 0.3996 - accuracy: 0.8164\n",
            "Epoch 132/200\n",
            "5625/5625 [==============================] - 1s 207us/step - loss: 0.3986 - accuracy: 0.8172\n",
            "Epoch 133/200\n",
            "5625/5625 [==============================] - 1s 199us/step - loss: 0.3991 - accuracy: 0.8142\n",
            "Epoch 134/200\n",
            "5625/5625 [==============================] - 1s 203us/step - loss: 0.3999 - accuracy: 0.8124\n",
            "Epoch 135/200\n",
            "5625/5625 [==============================] - 1s 220us/step - loss: 0.3990 - accuracy: 0.8162\n",
            "Epoch 136/200\n",
            "5625/5625 [==============================] - 1s 198us/step - loss: 0.4001 - accuracy: 0.8128\n",
            "Epoch 137/200\n",
            "5625/5625 [==============================] - 1s 201us/step - loss: 0.3993 - accuracy: 0.8148\n",
            "Epoch 138/200\n",
            "5625/5625 [==============================] - 1s 188us/step - loss: 0.3987 - accuracy: 0.8156\n",
            "Epoch 139/200\n",
            "5625/5625 [==============================] - 1s 189us/step - loss: 0.3989 - accuracy: 0.8153\n",
            "Epoch 140/200\n",
            "5625/5625 [==============================] - 1s 197us/step - loss: 0.3990 - accuracy: 0.8144\n",
            "Epoch 141/200\n",
            "5625/5625 [==============================] - 1s 183us/step - loss: 0.3997 - accuracy: 0.8156\n",
            "Epoch 142/200\n",
            "5625/5625 [==============================] - 1s 190us/step - loss: 0.3988 - accuracy: 0.8135\n",
            "Epoch 143/200\n",
            "5625/5625 [==============================] - 1s 188us/step - loss: 0.3991 - accuracy: 0.8137\n",
            "Epoch 144/200\n",
            "5625/5625 [==============================] - 1s 176us/step - loss: 0.3991 - accuracy: 0.8180\n",
            "Epoch 145/200\n",
            "5625/5625 [==============================] - 1s 199us/step - loss: 0.3988 - accuracy: 0.8155\n",
            "Epoch 146/200\n",
            "5625/5625 [==============================] - 1s 186us/step - loss: 0.3981 - accuracy: 0.8149\n",
            "Epoch 147/200\n",
            "5625/5625 [==============================] - 1s 203us/step - loss: 0.3984 - accuracy: 0.8165\n",
            "Epoch 148/200\n",
            "5625/5625 [==============================] - 1s 202us/step - loss: 0.3992 - accuracy: 0.8183\n",
            "Epoch 149/200\n",
            "5625/5625 [==============================] - 1s 182us/step - loss: 0.3989 - accuracy: 0.8149\n",
            "Epoch 150/200\n",
            "5625/5625 [==============================] - 1s 185us/step - loss: 0.3991 - accuracy: 0.8164\n",
            "Epoch 151/200\n",
            "5625/5625 [==============================] - 1s 181us/step - loss: 0.3994 - accuracy: 0.8185\n",
            "Epoch 152/200\n"
          ],
          "name": "stdout"
        },
        {
          "output_type": "stream",
          "text": [
            "5625/5625 [==============================] - 1s 244us/step - loss: 0.3986 - accuracy: 0.8158\n",
            "Epoch 153/200\n",
            "5625/5625 [==============================] - 1s 248us/step - loss: 0.3996 - accuracy: 0.8133\n",
            "Epoch 154/200\n",
            "5625/5625 [==============================] - 1s 246us/step - loss: 0.3993 - accuracy: 0.8181\n",
            "Epoch 155/200\n",
            "5625/5625 [==============================] - 1s 213us/step - loss: 0.3987 - accuracy: 0.8153\n",
            "Epoch 156/200\n",
            "5625/5625 [==============================] - 1s 233us/step - loss: 0.3990 - accuracy: 0.8160\n",
            "Epoch 157/200\n",
            "5625/5625 [==============================] - 1s 219us/step - loss: 0.3984 - accuracy: 0.8148\n",
            "Epoch 158/200\n",
            "5625/5625 [==============================] - 1s 239us/step - loss: 0.3987 - accuracy: 0.8162\n",
            "Epoch 159/200\n",
            "5625/5625 [==============================] - 1s 232us/step - loss: 0.3980 - accuracy: 0.8149\n",
            "Epoch 160/200\n",
            "5625/5625 [==============================] - 1s 217us/step - loss: 0.3974 - accuracy: 0.8180\n",
            "Epoch 161/200\n",
            "5625/5625 [==============================] - 1s 229us/step - loss: 0.3985 - accuracy: 0.8135\n",
            "Epoch 162/200\n",
            "5625/5625 [==============================] - 1s 220us/step - loss: 0.3977 - accuracy: 0.8185\n",
            "Epoch 163/200\n",
            "5625/5625 [==============================] - 2s 277us/step - loss: 0.3981 - accuracy: 0.8165\n",
            "Epoch 164/200\n",
            "5625/5625 [==============================] - 1s 257us/step - loss: 0.3977 - accuracy: 0.8176\n",
            "Epoch 165/200\n",
            "5625/5625 [==============================] - 2s 282us/step - loss: 0.3993 - accuracy: 0.8185\n",
            "Epoch 166/200\n",
            "5625/5625 [==============================] - 1s 244us/step - loss: 0.3990 - accuracy: 0.8174\n",
            "Epoch 167/200\n",
            "5625/5625 [==============================] - 1s 208us/step - loss: 0.3986 - accuracy: 0.8180\n",
            "Epoch 168/200\n",
            "5625/5625 [==============================] - 1s 207us/step - loss: 0.3988 - accuracy: 0.8172\n",
            "Epoch 169/200\n",
            "5625/5625 [==============================] - 1s 226us/step - loss: 0.3981 - accuracy: 0.8151\n",
            "Epoch 170/200\n",
            "5625/5625 [==============================] - 1s 241us/step - loss: 0.3982 - accuracy: 0.8164\n",
            "Epoch 171/200\n",
            "5625/5625 [==============================] - 2s 273us/step - loss: 0.3987 - accuracy: 0.8178\n",
            "Epoch 172/200\n",
            "5625/5625 [==============================] - 2s 272us/step - loss: 0.3976 - accuracy: 0.8162\n",
            "Epoch 173/200\n",
            "5625/5625 [==============================] - 1s 236us/step - loss: 0.3988 - accuracy: 0.8172\n",
            "Epoch 174/200\n",
            "5625/5625 [==============================] - 1s 247us/step - loss: 0.3978 - accuracy: 0.8172\n",
            "Epoch 175/200\n",
            "5625/5625 [==============================] - 1s 231us/step - loss: 0.3984 - accuracy: 0.8176\n",
            "Epoch 176/200\n",
            "5625/5625 [==============================] - 1s 249us/step - loss: 0.3985 - accuracy: 0.8176\n",
            "Epoch 177/200\n",
            "5625/5625 [==============================] - 1s 256us/step - loss: 0.3988 - accuracy: 0.8178\n",
            "Epoch 178/200\n",
            "5625/5625 [==============================] - 1s 232us/step - loss: 0.3984 - accuracy: 0.8155\n",
            "Epoch 179/200\n",
            "5625/5625 [==============================] - 1s 252us/step - loss: 0.3985 - accuracy: 0.8167\n",
            "Epoch 180/200\n",
            "5625/5625 [==============================] - 1s 230us/step - loss: 0.3981 - accuracy: 0.8169\n",
            "Epoch 181/200\n",
            "5625/5625 [==============================] - 1s 237us/step - loss: 0.3972 - accuracy: 0.8181\n",
            "Epoch 182/200\n",
            "5625/5625 [==============================] - 1s 226us/step - loss: 0.3976 - accuracy: 0.8146\n",
            "Epoch 183/200\n",
            "5625/5625 [==============================] - 1s 218us/step - loss: 0.3979 - accuracy: 0.8167\n",
            "Epoch 184/200\n",
            "5625/5625 [==============================] - 1s 231us/step - loss: 0.3984 - accuracy: 0.8183\n",
            "Epoch 185/200\n",
            "5625/5625 [==============================] - 1s 229us/step - loss: 0.3975 - accuracy: 0.8197\n",
            "Epoch 186/200\n",
            "5625/5625 [==============================] - 1s 222us/step - loss: 0.3982 - accuracy: 0.8169\n",
            "Epoch 187/200\n",
            "5625/5625 [==============================] - 1s 224us/step - loss: 0.3975 - accuracy: 0.8135\n",
            "Epoch 188/200\n",
            "5625/5625 [==============================] - 1s 218us/step - loss: 0.3988 - accuracy: 0.8144\n",
            "Epoch 189/200\n",
            "5625/5625 [==============================] - 1s 228us/step - loss: 0.3979 - accuracy: 0.8171\n",
            "Epoch 190/200\n",
            "5625/5625 [==============================] - 2s 282us/step - loss: 0.3985 - accuracy: 0.8188\n",
            "Epoch 191/200\n",
            "5625/5625 [==============================] - 1s 196us/step - loss: 0.3979 - accuracy: 0.8181\n",
            "Epoch 192/200\n",
            "5625/5625 [==============================] - 1s 263us/step - loss: 0.3991 - accuracy: 0.8146\n",
            "Epoch 193/200\n",
            "5625/5625 [==============================] - 1s 239us/step - loss: 0.3982 - accuracy: 0.8171\n",
            "Epoch 194/200\n",
            "5625/5625 [==============================] - 1s 251us/step - loss: 0.3978 - accuracy: 0.8183\n",
            "Epoch 195/200\n",
            "5625/5625 [==============================] - 1s 258us/step - loss: 0.3974 - accuracy: 0.8172\n",
            "Epoch 196/200\n",
            "5625/5625 [==============================] - 1s 264us/step - loss: 0.3979 - accuracy: 0.8188\n",
            "Epoch 197/200\n",
            "5625/5625 [==============================] - 1s 256us/step - loss: 0.3968 - accuracy: 0.8174\n",
            "Epoch 198/200\n",
            "5625/5625 [==============================] - 1s 201us/step - loss: 0.3979 - accuracy: 0.8187\n",
            "Epoch 199/200\n",
            "5625/5625 [==============================] - 1s 186us/step - loss: 0.3985 - accuracy: 0.8171\n",
            "Epoch 200/200\n",
            "5625/5625 [==============================] - 1s 174us/step - loss: 0.3982 - accuracy: 0.8183\n"
          ],
          "name": "stdout"
        },
        {
          "output_type": "execute_result",
          "data": {
            "text/plain": [
              "<keras.callbacks.callbacks.History at 0x1cfeecf9788>"
            ]
          },
          "metadata": {
            "tags": []
          },
          "execution_count": 16
        }
      ]
    },
    {
      "cell_type": "code",
      "metadata": {
        "id": "1P6Zo2khcak3",
        "colab_type": "code",
        "colab": {},
        "outputId": "5c2d7b55-fb2f-4292-f8bd-8d4c5bc6130b"
      },
      "source": [
        "# evaluate the keras model\n",
        "_, accuracy = model.evaluate(X_test, y_test)\n",
        "print('Accuracy: %.2f' % (accuracy*100))"
      ],
      "execution_count": 0,
      "outputs": [
        {
          "output_type": "stream",
          "text": [
            "1407/1407 [==============================] - 0s 24us/step\n",
            "Accuracy: 78.82\n"
          ],
          "name": "stdout"
        }
      ]
    },
    {
      "cell_type": "code",
      "metadata": {
        "id": "fjvVD_wucak5",
        "colab_type": "code",
        "colab": {},
        "outputId": "d9c57597-13b1-43dd-d4b8-77826e764054"
      },
      "source": [
        "model.predict(X_test[1:2])\n",
        "y_test"
      ],
      "execution_count": 0,
      "outputs": [
        {
          "output_type": "execute_result",
          "data": {
            "text/plain": [
              "5552    0\n",
              "5805    0\n",
              "2640    0\n",
              "3976    1\n",
              "6429    1\n",
              "       ..\n",
              "2752    0\n",
              "5693    1\n",
              "1657    1\n",
              "2761    0\n",
              "2913    0\n",
              "Name: boolChurn, Length: 1407, dtype: uint8"
            ]
          },
          "metadata": {
            "tags": []
          },
          "execution_count": 129
        }
      ]
    }
  ]
}